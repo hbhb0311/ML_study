{
 "cells": [
  {
   "cell_type": "markdown",
   "metadata": {},
   "source": [
    "# 1. Naive bayes classifier 배경"
   ]
  },
  {
   "cell_type": "markdown",
   "metadata": {},
   "source": [
    "설명변수와 반응변수를 분리해 생각 \n",
    "\n",
    "<br>\n",
    "\n",
    "아래와 같은 상황일 때, 반응변수가 특정하게 발생하는 패턴이 자주 발생\n",
    "- 특정 반응변수 자체가 많이 일어나는 확률\n",
    "- 특정 반응변수가 먼저 발생하고, 해당 설명변수가 발생하는 확률이 높은 경우\n",
    "\n",
    "<br>\n",
    "\n",
    "Naive bayes는 `설명변수 간의 독립`을 가정 <br>\n",
    "ex. 테니스를 쳤을 때, 겉보기 날씨와 습도는 서로 상관관계가 없음을 가정"
   ]
  },
  {
   "cell_type": "markdown",
   "metadata": {},
   "source": [
    "**수학적 개념 - 조건부 확률**\n",
    "\n",
    "B가 주어졌을 때 사건 A의 `조건부 확률` <br>\n",
    "$ P(A|B) = \\frac{P(A \\cap B)}{P(B)} $"
   ]
  },
  {
   "cell_type": "markdown",
   "metadata": {},
   "source": [
    "**베이즈정리**<br>\n",
    "$ P(A_i|B) = \\frac{P(B|A_i) * P(A_i)}{P(B)} $\n",
    "\n",
    "- 특정 반응변수 자체가 많이 일어나는 확률 == $P(A_i)$\n",
    "- 특정 반응변수가 먼저 발생하고, 해당 설명변수가 발생하는 확률이 높은 경우 == $P(B|A_i)$"
   ]
  },
  {
   "cell_type": "markdown",
   "metadata": {},
   "source": [
    "# 2. Naive bayes classifier 종류"
   ]
  },
  {
   "cell_type": "markdown",
   "metadata": {},
   "source": [
    "- Gaussian naive bayes classifier : 설명변수가 `연속형`인 경우\n",
    "    - 설명변수를 정규분포로 가정\n",
    "\n",
    "<br>\n",
    "\n",
    "- Multinomial naive bayes classifier : 설명변수가 `범주형`인 경우\n",
    "    - Bernoulli naive bayes classifier : 설명변수가 `이분형`인 경우"
   ]
  },
  {
   "cell_type": "markdown",
   "metadata": {},
   "source": [
    "# 3. Gaussian Naive Bayes"
   ]
  },
  {
   "cell_type": "markdown",
   "metadata": {},
   "source": [
    "## 3-1. 데이터, 모듈 불러오기"
   ]
  },
  {
   "cell_type": "code",
   "execution_count": 4,
   "metadata": {},
   "outputs": [],
   "source": [
    "from sklearn import datasets\n",
    "from sklearn.naive_bayes import GaussianNB\n",
    "import pandas as pd"
   ]
  },
  {
   "cell_type": "code",
   "execution_count": 5,
   "metadata": {},
   "outputs": [],
   "source": [
    "iris = datasets.load_iris()\n",
    "df_X = pd.DataFrame(iris.data)\n",
    "df_Y = pd.DataFrame(iris.target)"
   ]
  },
  {
   "cell_type": "code",
   "execution_count": 6,
   "metadata": {},
   "outputs": [
    {
     "data": {
      "text/html": [
       "<div>\n",
       "<style scoped>\n",
       "    .dataframe tbody tr th:only-of-type {\n",
       "        vertical-align: middle;\n",
       "    }\n",
       "\n",
       "    .dataframe tbody tr th {\n",
       "        vertical-align: top;\n",
       "    }\n",
       "\n",
       "    .dataframe thead th {\n",
       "        text-align: right;\n",
       "    }\n",
       "</style>\n",
       "<table border=\"1\" class=\"dataframe\">\n",
       "  <thead>\n",
       "    <tr style=\"text-align: right;\">\n",
       "      <th></th>\n",
       "      <th>0</th>\n",
       "      <th>1</th>\n",
       "      <th>2</th>\n",
       "      <th>3</th>\n",
       "    </tr>\n",
       "  </thead>\n",
       "  <tbody>\n",
       "    <tr>\n",
       "      <th>0</th>\n",
       "      <td>5.1</td>\n",
       "      <td>3.5</td>\n",
       "      <td>1.4</td>\n",
       "      <td>0.2</td>\n",
       "    </tr>\n",
       "    <tr>\n",
       "      <th>1</th>\n",
       "      <td>4.9</td>\n",
       "      <td>3.0</td>\n",
       "      <td>1.4</td>\n",
       "      <td>0.2</td>\n",
       "    </tr>\n",
       "    <tr>\n",
       "      <th>2</th>\n",
       "      <td>4.7</td>\n",
       "      <td>3.2</td>\n",
       "      <td>1.3</td>\n",
       "      <td>0.2</td>\n",
       "    </tr>\n",
       "    <tr>\n",
       "      <th>3</th>\n",
       "      <td>4.6</td>\n",
       "      <td>3.1</td>\n",
       "      <td>1.5</td>\n",
       "      <td>0.2</td>\n",
       "    </tr>\n",
       "    <tr>\n",
       "      <th>4</th>\n",
       "      <td>5.0</td>\n",
       "      <td>3.6</td>\n",
       "      <td>1.4</td>\n",
       "      <td>0.2</td>\n",
       "    </tr>\n",
       "  </tbody>\n",
       "</table>\n",
       "</div>"
      ],
      "text/plain": [
       "     0    1    2    3\n",
       "0  5.1  3.5  1.4  0.2\n",
       "1  4.9  3.0  1.4  0.2\n",
       "2  4.7  3.2  1.3  0.2\n",
       "3  4.6  3.1  1.5  0.2\n",
       "4  5.0  3.6  1.4  0.2"
      ]
     },
     "execution_count": 6,
     "metadata": {},
     "output_type": "execute_result"
    }
   ],
   "source": [
    "df_X.head()"
   ]
  },
  {
   "cell_type": "code",
   "execution_count": 7,
   "metadata": {},
   "outputs": [
    {
     "data": {
      "text/html": [
       "<div>\n",
       "<style scoped>\n",
       "    .dataframe tbody tr th:only-of-type {\n",
       "        vertical-align: middle;\n",
       "    }\n",
       "\n",
       "    .dataframe tbody tr th {\n",
       "        vertical-align: top;\n",
       "    }\n",
       "\n",
       "    .dataframe thead th {\n",
       "        text-align: right;\n",
       "    }\n",
       "</style>\n",
       "<table border=\"1\" class=\"dataframe\">\n",
       "  <thead>\n",
       "    <tr style=\"text-align: right;\">\n",
       "      <th></th>\n",
       "      <th>0</th>\n",
       "    </tr>\n",
       "  </thead>\n",
       "  <tbody>\n",
       "    <tr>\n",
       "      <th>0</th>\n",
       "      <td>0</td>\n",
       "    </tr>\n",
       "    <tr>\n",
       "      <th>1</th>\n",
       "      <td>0</td>\n",
       "    </tr>\n",
       "    <tr>\n",
       "      <th>2</th>\n",
       "      <td>0</td>\n",
       "    </tr>\n",
       "    <tr>\n",
       "      <th>3</th>\n",
       "      <td>0</td>\n",
       "    </tr>\n",
       "    <tr>\n",
       "      <th>4</th>\n",
       "      <td>0</td>\n",
       "    </tr>\n",
       "  </tbody>\n",
       "</table>\n",
       "</div>"
      ],
      "text/plain": [
       "   0\n",
       "0  0\n",
       "1  0\n",
       "2  0\n",
       "3  0\n",
       "4  0"
      ]
     },
     "execution_count": 7,
     "metadata": {},
     "output_type": "execute_result"
    }
   ],
   "source": [
    "df_Y.head()"
   ]
  },
  {
   "cell_type": "markdown",
   "metadata": {},
   "source": [
    "## 3-2. fitting"
   ]
  },
  {
   "cell_type": "code",
   "execution_count": 8,
   "metadata": {},
   "outputs": [],
   "source": [
    "gnb = GaussianNB()\n",
    "fitted = gnb.fit(iris.data, iris.target)\n",
    "y_pred = fitted.predict(iris.data)"
   ]
  },
  {
   "cell_type": "code",
   "execution_count": 9,
   "metadata": {},
   "outputs": [
    {
     "data": {
      "text/plain": [
       "array([[1.00000000e+000, 1.51480769e-017, 2.34820051e-025],\n",
       "       [1.00000000e+000, 2.63876217e-018, 2.79566024e-025],\n",
       "       [7.27347795e-102, 9.45169639e-001, 5.48303606e-002],\n",
       "       [3.23245181e-254, 6.35381031e-011, 1.00000000e+000]])"
      ]
     },
     "execution_count": 9,
     "metadata": {},
     "output_type": "execute_result"
    }
   ],
   "source": [
    "fitted.predict_proba(iris.data)[[1, 48, 51, 100]]"
   ]
  },
  {
   "cell_type": "code",
   "execution_count": 10,
   "metadata": {},
   "outputs": [
    {
     "data": {
      "text/plain": [
       "array([0, 0, 1, 2])"
      ]
     },
     "execution_count": 10,
     "metadata": {},
     "output_type": "execute_result"
    }
   ],
   "source": [
    "fitted.predict(iris.data)[[1, 48, 51, 100]]"
   ]
  },
  {
   "cell_type": "markdown",
   "metadata": {},
   "source": [
    "## 3-3. confusion matrix"
   ]
  },
  {
   "cell_type": "code",
   "execution_count": 11,
   "metadata": {},
   "outputs": [],
   "source": [
    "from sklearn.metrics import confusion_matrix"
   ]
  },
  {
   "cell_type": "code",
   "execution_count": 12,
   "metadata": {},
   "outputs": [
    {
     "data": {
      "text/plain": [
       "array([[50,  0,  0],\n",
       "       [ 0, 47,  3],\n",
       "       [ 0,  3, 47]])"
      ]
     },
     "execution_count": 12,
     "metadata": {},
     "output_type": "execute_result"
    }
   ],
   "source": [
    "confusion_matrix(iris.target, y_pred)"
   ]
  },
  {
   "cell_type": "markdown",
   "metadata": {},
   "source": [
    "## 3-4. priors 설정"
   ]
  },
  {
   "cell_type": "code",
   "execution_count": 14,
   "metadata": {},
   "outputs": [
    {
     "data": {
      "text/plain": [
       "array([[50,  0,  0],\n",
       "       [ 0, 33, 17],\n",
       "       [ 0,  0, 50]])"
      ]
     },
     "execution_count": 14,
     "metadata": {},
     "output_type": "execute_result"
    }
   ],
   "source": [
    "gnb2 = GaussianNB(priors = [1/100, 1/100, 98/100]) \n",
    "# 세번째 클래스의 출현확률을 높게 줘서 두번째 클래스임에도 세번째로 예측하거나\n",
    "# 세번째 클래스는 모두 맞추는 것을 보여줌\n",
    "fitted2 = gnb2.fit(iris.data, iris.target)\n",
    "y_pred2 = fitted2.predict(iris.data)\n",
    "confusion_matrix(iris.target, y_pred2)"
   ]
  },
  {
   "cell_type": "code",
   "execution_count": 15,
   "metadata": {},
   "outputs": [
    {
     "data": {
      "text/plain": [
       "array([[50,  0,  0],\n",
       "       [ 0, 50,  0],\n",
       "       [ 0, 14, 36]])"
      ]
     },
     "execution_count": 15,
     "metadata": {},
     "output_type": "execute_result"
    }
   ],
   "source": [
    "gnb3 = GaussianNB(priors = [1/100, 98/100, 1/100]) \n",
    "# 두번째 클래스의 출현 확률을 높게 줘서, 세번째 클래스를 두번째로 예측하는 경우 발생\n",
    "fitted3 = gnb3.fit(iris.data, iris.target)\n",
    "y_pred3 = fitted3.predict(iris.data)\n",
    "confusion_matrix(iris.target, y_pred3)"
   ]
  },
  {
   "cell_type": "markdown",
   "metadata": {},
   "source": [
    "# 4. Multinomial naive bayes"
   ]
  },
  {
   "cell_type": "markdown",
   "metadata": {},
   "source": [
    "## 4-1. 데이터, 모듈 설정"
   ]
  },
  {
   "cell_type": "code",
   "execution_count": 16,
   "metadata": {},
   "outputs": [],
   "source": [
    "from sklearn.naive_bayes import MultinomialNB\n",
    "import numpy as np"
   ]
  },
  {
   "cell_type": "code",
   "execution_count": 17,
   "metadata": {},
   "outputs": [],
   "source": [
    "X = np.random.randint(5, size = (6, 100))\n",
    "y = np.array([1, 2, 3, 4, 5, 6])"
   ]
  },
  {
   "cell_type": "code",
   "execution_count": 20,
   "metadata": {},
   "outputs": [
    {
     "data": {
      "text/plain": [
       "array([[2, 0, 3, 4, 0, 1, 2, 4, 1, 3, 3, 1, 3, 4, 1, 0, 1, 4, 3, 2, 4, 3,\n",
       "        0, 1, 2, 1, 1, 3, 0, 3, 1, 4, 0, 0, 4, 0, 4, 3, 1, 3, 4, 3, 2, 0,\n",
       "        1, 2, 0, 4, 1, 0, 3, 1, 1, 4, 0, 0, 1, 3, 3, 4, 1, 4, 4, 4, 2, 4,\n",
       "        4, 2, 0, 3, 3, 0, 2, 4, 3, 4, 3, 0, 1, 0, 2, 1, 1, 0, 4, 1, 4, 2,\n",
       "        2, 2, 2, 2, 4, 0, 0, 4, 0, 0, 1, 2],\n",
       "       [0, 3, 2, 1, 1, 1, 1, 1, 2, 2, 4, 1, 1, 3, 1, 3, 2, 1, 1, 4, 3, 0,\n",
       "        2, 3, 2, 0, 2, 4, 1, 0, 4, 1, 2, 4, 2, 3, 0, 3, 3, 4, 0, 1, 1, 2,\n",
       "        4, 1, 0, 4, 0, 4, 0, 1, 3, 0, 0, 3, 4, 0, 4, 0, 3, 1, 3, 4, 1, 3,\n",
       "        1, 3, 1, 2, 0, 4, 3, 4, 1, 3, 3, 2, 0, 3, 2, 2, 0, 4, 3, 2, 3, 1,\n",
       "        4, 0, 1, 2, 0, 3, 4, 2, 2, 1, 0, 1],\n",
       "       [3, 3, 2, 4, 3, 2, 2, 4, 3, 1, 3, 2, 2, 2, 2, 0, 2, 2, 1, 2, 0, 2,\n",
       "        1, 0, 4, 0, 3, 1, 3, 3, 4, 2, 3, 1, 0, 2, 4, 3, 3, 3, 4, 2, 1, 3,\n",
       "        0, 4, 1, 1, 2, 3, 2, 3, 2, 3, 0, 1, 2, 0, 3, 3, 2, 1, 2, 1, 4, 1,\n",
       "        1, 1, 4, 0, 4, 4, 0, 1, 1, 3, 1, 1, 4, 3, 1, 2, 1, 4, 4, 3, 4, 1,\n",
       "        2, 0, 0, 0, 4, 0, 4, 4, 2, 3, 1, 1],\n",
       "       [2, 3, 0, 4, 1, 3, 4, 4, 2, 2, 3, 1, 3, 3, 1, 1, 0, 1, 2, 0, 0, 2,\n",
       "        3, 1, 4, 2, 0, 0, 3, 0, 2, 0, 0, 4, 2, 0, 1, 2, 1, 0, 2, 4, 1, 0,\n",
       "        4, 2, 3, 0, 0, 1, 1, 1, 3, 3, 1, 4, 1, 2, 3, 4, 3, 4, 4, 0, 4, 3,\n",
       "        0, 2, 4, 1, 3, 2, 3, 1, 0, 0, 0, 1, 4, 4, 1, 2, 2, 1, 3, 4, 1, 3,\n",
       "        1, 1, 1, 2, 0, 2, 2, 2, 0, 4, 0, 0],\n",
       "       [4, 3, 0, 2, 3, 2, 3, 2, 3, 3, 1, 1, 1, 3, 3, 3, 2, 4, 2, 2, 4, 2,\n",
       "        2, 1, 2, 1, 2, 2, 4, 2, 1, 2, 3, 4, 0, 3, 4, 3, 1, 2, 0, 0, 3, 4,\n",
       "        4, 1, 2, 0, 1, 0, 2, 1, 0, 4, 2, 0, 1, 4, 4, 1, 3, 0, 4, 3, 1, 2,\n",
       "        4, 3, 2, 4, 4, 0, 1, 4, 2, 2, 4, 0, 3, 0, 2, 4, 3, 0, 0, 2, 4, 2,\n",
       "        3, 3, 4, 0, 1, 1, 1, 4, 2, 2, 3, 4],\n",
       "       [4, 1, 0, 0, 1, 0, 2, 2, 2, 2, 0, 0, 0, 0, 1, 4, 2, 1, 3, 2, 1, 0,\n",
       "        4, 0, 3, 1, 2, 0, 0, 2, 3, 4, 0, 2, 3, 3, 3, 3, 3, 1, 2, 3, 2, 1,\n",
       "        2, 0, 0, 2, 4, 1, 4, 4, 0, 0, 0, 3, 3, 3, 4, 1, 3, 2, 0, 1, 3, 4,\n",
       "        2, 4, 4, 3, 1, 2, 3, 3, 4, 2, 4, 0, 2, 4, 1, 0, 1, 2, 1, 0, 1, 0,\n",
       "        0, 4, 3, 0, 2, 1, 3, 2, 0, 2, 2, 1]])"
      ]
     },
     "execution_count": 20,
     "metadata": {},
     "output_type": "execute_result"
    }
   ],
   "source": [
    "X"
   ]
  },
  {
   "cell_type": "code",
   "execution_count": 21,
   "metadata": {},
   "outputs": [
    {
     "data": {
      "text/plain": [
       "array([1, 2, 3, 4, 5, 6])"
      ]
     },
     "execution_count": 21,
     "metadata": {},
     "output_type": "execute_result"
    }
   ],
   "source": [
    "y"
   ]
  },
  {
   "cell_type": "markdown",
   "metadata": {},
   "source": [
    "## 4-2. fitting"
   ]
  },
  {
   "cell_type": "code",
   "execution_count": 22,
   "metadata": {},
   "outputs": [
    {
     "data": {
      "text/plain": [
       "MultinomialNB()"
      ]
     },
     "execution_count": 22,
     "metadata": {},
     "output_type": "execute_result"
    }
   ],
   "source": [
    "clf = MultinomialNB()\n",
    "clf.fit(X, y)"
   ]
  },
  {
   "cell_type": "code",
   "execution_count": 27,
   "metadata": {},
   "outputs": [
    {
     "name": "stdout",
     "output_type": "stream",
     "text": [
      "[3]\n"
     ]
    }
   ],
   "source": [
    "print(clf.predict(X[2:3]))"
   ]
  },
  {
   "cell_type": "code",
   "execution_count": 28,
   "metadata": {},
   "outputs": [
    {
     "data": {
      "text/plain": [
       "array([[5.05210960e-33, 2.30287116e-32, 1.00000000e+00, 1.08655594e-26,\n",
       "        3.78668378e-32, 2.13161144e-32]])"
      ]
     },
     "execution_count": 28,
     "metadata": {},
     "output_type": "execute_result"
    }
   ],
   "source": [
    "clf.predict_proba(X[2:3])"
   ]
  },
  {
   "cell_type": "code",
   "execution_count": 29,
   "metadata": {},
   "outputs": [
    {
     "data": {
      "text/plain": [
       "array([3])"
      ]
     },
     "execution_count": 29,
     "metadata": {},
     "output_type": "execute_result"
    }
   ],
   "source": [
    "clf.predict(X[2:3])"
   ]
  },
  {
   "cell_type": "markdown",
   "metadata": {},
   "source": [
    "## 4-3. priors 설정"
   ]
  },
  {
   "cell_type": "code",
   "execution_count": 38,
   "metadata": {},
   "outputs": [
    {
     "data": {
      "text/plain": [
       "MultinomialNB(class_prior=[0.1, 0.5, 0.1, 0.1, 0.1, 0.1])"
      ]
     },
     "execution_count": 38,
     "metadata": {},
     "output_type": "execute_result"
    }
   ],
   "source": [
    "clf2 = MultinomialNB(class_prior = [0.1, 0.5, 0.1, 0.1, 0.1, 0.1])\n",
    "clf2.fit(X, y)"
   ]
  },
  {
   "cell_type": "code",
   "execution_count": 39,
   "metadata": {},
   "outputs": [
    {
     "data": {
      "text/plain": [
       "array([[5.05210960e-33, 1.15143558e-31, 1.00000000e+00, 1.08655594e-26,\n",
       "        3.78668378e-32, 2.13161144e-32]])"
      ]
     },
     "execution_count": 39,
     "metadata": {},
     "output_type": "execute_result"
    }
   ],
   "source": [
    "clf2.predict_proba(X[2:3])\n",
    "# 두번째 클래스의 확률 값이 높아짐"
   ]
  }
 ],
 "metadata": {
  "kernelspec": {
   "display_name": "Python 3",
   "language": "python",
   "name": "python3"
  },
  "language_info": {
   "codemirror_mode": {
    "name": "ipython",
    "version": 3
   },
   "file_extension": ".py",
   "mimetype": "text/x-python",
   "name": "python",
   "nbconvert_exporter": "python",
   "pygments_lexer": "ipython3",
   "version": "3.8.5"
  },
  "toc": {
   "base_numbering": 1,
   "nav_menu": {},
   "number_sections": true,
   "sideBar": true,
   "skip_h1_title": false,
   "title_cell": "Table of Contents",
   "title_sidebar": "Contents",
   "toc_cell": false,
   "toc_position": {},
   "toc_section_display": true,
   "toc_window_display": false
  },
  "varInspector": {
   "cols": {
    "lenName": 16,
    "lenType": 16,
    "lenVar": 40
   },
   "kernels_config": {
    "python": {
     "delete_cmd_postfix": "",
     "delete_cmd_prefix": "del ",
     "library": "var_list.py",
     "varRefreshCmd": "print(var_dic_list())"
    },
    "r": {
     "delete_cmd_postfix": ") ",
     "delete_cmd_prefix": "rm(",
     "library": "var_list.r",
     "varRefreshCmd": "cat(var_dic_list()) "
    }
   },
   "types_to_exclude": [
    "module",
    "function",
    "builtin_function_or_method",
    "instance",
    "_Feature"
   ],
   "window_display": false
  }
 },
 "nbformat": 4,
 "nbformat_minor": 4
}
