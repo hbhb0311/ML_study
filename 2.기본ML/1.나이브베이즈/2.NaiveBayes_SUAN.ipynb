{
 "cells": [
  {
   "cell_type": "code",
   "execution_count": 1,
   "id": "e1a08a46",
   "metadata": {
    "ExecuteTime": {
     "end_time": "2021-07-23T06:52:05.171997Z",
     "start_time": "2021-07-23T06:52:04.428489Z"
    }
   },
   "outputs": [],
   "source": [
    "import numpy as np\n",
    "import pandas as pd\n",
    "\n",
    "from sklearn.naive_bayes import GaussianNB, BernoulliNB, MultinomialNB\n",
    "from sklearn.datasets import fetch_covtype, fetch_20newsgroups\n",
    "from sklearn.model_selection import train_test_split\n",
    "from sklearn.preprocessing import StandardScaler\n",
    "from sklearn.feature_extraction.text import CountVectorizer, HashingVectorizer, TfidfVectorizer\n",
    "from sklearn import metrics"
   ]
  },
  {
   "cell_type": "code",
   "execution_count": 14,
   "id": "81d56d47",
   "metadata": {
    "ExecuteTime": {
     "end_time": "2021-07-23T07:03:24.762024Z",
     "start_time": "2021-07-23T07:03:24.745634Z"
    }
   },
   "outputs": [
    {
     "name": "stdout",
     "output_type": "stream",
     "text": [
      "1번째 클래스의 가능성 : 0.0162\n",
      "2번째 클래스의 가능성 : 0.0042\n",
      "3번째 클래스의 가능성 : 0.0039375\n",
      "4번째 클래스의 가능성 : 0.0024000000000000002\n"
     ]
    }
   ],
   "source": [
    "prior = [0.45, 0.3, 0.15, 0.1]\n",
    "likelihood = [[0.3, 0.3, 0.4], [0.7, 0.2, 0.1], [0.15, 0.5, 0.35], [0.6, 0.2, 0.2]]\n",
    "\n",
    "idx = 0\n",
    "for pri, lhds in zip(prior, likelihood):\n",
    "    result = 1\n",
    "    \n",
    "    for llh in lhds:\n",
    "        result *= llh\n",
    "    result *= pri\n",
    "    \n",
    "    idx += 1\n",
    "    print(f\"{idx}번째 클래스의 가능성 : {result}\")"
   ]
  },
  {
   "cell_type": "markdown",
   "id": "d0d3a3f1",
   "metadata": {},
   "source": [
    "# 1. 산림 토양 데이터 예제"
   ]
  },
  {
   "cell_type": "code",
   "execution_count": 15,
   "id": "674ee63b",
   "metadata": {
    "ExecuteTime": {
     "end_time": "2021-07-23T07:06:16.888061Z",
     "start_time": "2021-07-23T07:04:00.465218Z"
    }
   },
   "outputs": [
    {
     "name": "stdout",
     "output_type": "stream",
     "text": [
      ".. _covtype_dataset:\n",
      "\n",
      "Forest covertypes\n",
      "-----------------\n",
      "\n",
      "The samples in this dataset correspond to 30×30m patches of forest in the US,\n",
      "collected for the task of predicting each patch's cover type,\n",
      "i.e. the dominant species of tree.\n",
      "There are seven covertypes, making this a multiclass classification problem.\n",
      "Each sample has 54 features, described on the\n",
      "`dataset's homepage <https://archive.ics.uci.edu/ml/datasets/Covertype>`__.\n",
      "Some of the features are boolean indicators,\n",
      "while others are discrete or continuous measurements.\n",
      "\n",
      "**Data Set Characteristics:**\n",
      "\n",
      "    =================   ============\n",
      "    Classes                        7\n",
      "    Samples total             581012\n",
      "    Dimensionality                54\n",
      "    Features                     int\n",
      "    =================   ============\n",
      "\n",
      ":func:`sklearn.datasets.fetch_covtype` will load the covertype dataset;\n",
      "it returns a dictionary-like 'Bunch' object\n",
      "with the feature matrix in the ``data`` member\n",
      "and the target values in ``target``. If optional argument 'as_frame' is\n",
      "set to 'True', it will return ``data`` and ``target`` as pandas\n",
      "data frame, and there will be an additional member ``frame`` as well.\n",
      "The dataset will be downloaded from the web if necessary.\n",
      "\n"
     ]
    }
   ],
   "source": [
    "covtype = fetch_covtype()\n",
    "print(covtype.DESCR)"
   ]
  },
  {
   "cell_type": "code",
   "execution_count": 16,
   "id": "2af93b30",
   "metadata": {
    "ExecuteTime": {
     "end_time": "2021-07-23T07:06:28.924139Z",
     "start_time": "2021-07-23T07:06:28.303681Z"
    }
   },
   "outputs": [
    {
     "data": {
      "text/html": [
       "<div>\n",
       "<style scoped>\n",
       "    .dataframe tbody tr th:only-of-type {\n",
       "        vertical-align: middle;\n",
       "    }\n",
       "\n",
       "    .dataframe tbody tr th {\n",
       "        vertical-align: top;\n",
       "    }\n",
       "\n",
       "    .dataframe thead th {\n",
       "        text-align: right;\n",
       "    }\n",
       "</style>\n",
       "<table border=\"1\" class=\"dataframe\">\n",
       "  <thead>\n",
       "    <tr style=\"text-align: right;\">\n",
       "      <th></th>\n",
       "      <th>0</th>\n",
       "      <th>1</th>\n",
       "      <th>2</th>\n",
       "      <th>3</th>\n",
       "      <th>4</th>\n",
       "      <th>5</th>\n",
       "      <th>6</th>\n",
       "      <th>7</th>\n",
       "      <th>8</th>\n",
       "      <th>9</th>\n",
       "      <th>...</th>\n",
       "      <th>44</th>\n",
       "      <th>45</th>\n",
       "      <th>46</th>\n",
       "      <th>47</th>\n",
       "      <th>48</th>\n",
       "      <th>49</th>\n",
       "      <th>50</th>\n",
       "      <th>51</th>\n",
       "      <th>52</th>\n",
       "      <th>53</th>\n",
       "    </tr>\n",
       "  </thead>\n",
       "  <tbody>\n",
       "    <tr>\n",
       "      <th>0</th>\n",
       "      <td>2596.0</td>\n",
       "      <td>51.0</td>\n",
       "      <td>3.0</td>\n",
       "      <td>258.0</td>\n",
       "      <td>0.0</td>\n",
       "      <td>510.0</td>\n",
       "      <td>221.0</td>\n",
       "      <td>232.0</td>\n",
       "      <td>148.0</td>\n",
       "      <td>6279.0</td>\n",
       "      <td>...</td>\n",
       "      <td>0.0</td>\n",
       "      <td>0.0</td>\n",
       "      <td>0.0</td>\n",
       "      <td>0.0</td>\n",
       "      <td>0.0</td>\n",
       "      <td>0.0</td>\n",
       "      <td>0.0</td>\n",
       "      <td>0.0</td>\n",
       "      <td>0.0</td>\n",
       "      <td>0.0</td>\n",
       "    </tr>\n",
       "    <tr>\n",
       "      <th>1</th>\n",
       "      <td>2590.0</td>\n",
       "      <td>56.0</td>\n",
       "      <td>2.0</td>\n",
       "      <td>212.0</td>\n",
       "      <td>-6.0</td>\n",
       "      <td>390.0</td>\n",
       "      <td>220.0</td>\n",
       "      <td>235.0</td>\n",
       "      <td>151.0</td>\n",
       "      <td>6225.0</td>\n",
       "      <td>...</td>\n",
       "      <td>0.0</td>\n",
       "      <td>0.0</td>\n",
       "      <td>0.0</td>\n",
       "      <td>0.0</td>\n",
       "      <td>0.0</td>\n",
       "      <td>0.0</td>\n",
       "      <td>0.0</td>\n",
       "      <td>0.0</td>\n",
       "      <td>0.0</td>\n",
       "      <td>0.0</td>\n",
       "    </tr>\n",
       "    <tr>\n",
       "      <th>2</th>\n",
       "      <td>2804.0</td>\n",
       "      <td>139.0</td>\n",
       "      <td>9.0</td>\n",
       "      <td>268.0</td>\n",
       "      <td>65.0</td>\n",
       "      <td>3180.0</td>\n",
       "      <td>234.0</td>\n",
       "      <td>238.0</td>\n",
       "      <td>135.0</td>\n",
       "      <td>6121.0</td>\n",
       "      <td>...</td>\n",
       "      <td>0.0</td>\n",
       "      <td>0.0</td>\n",
       "      <td>0.0</td>\n",
       "      <td>0.0</td>\n",
       "      <td>0.0</td>\n",
       "      <td>0.0</td>\n",
       "      <td>0.0</td>\n",
       "      <td>0.0</td>\n",
       "      <td>0.0</td>\n",
       "      <td>0.0</td>\n",
       "    </tr>\n",
       "    <tr>\n",
       "      <th>3</th>\n",
       "      <td>2785.0</td>\n",
       "      <td>155.0</td>\n",
       "      <td>18.0</td>\n",
       "      <td>242.0</td>\n",
       "      <td>118.0</td>\n",
       "      <td>3090.0</td>\n",
       "      <td>238.0</td>\n",
       "      <td>238.0</td>\n",
       "      <td>122.0</td>\n",
       "      <td>6211.0</td>\n",
       "      <td>...</td>\n",
       "      <td>0.0</td>\n",
       "      <td>0.0</td>\n",
       "      <td>0.0</td>\n",
       "      <td>0.0</td>\n",
       "      <td>0.0</td>\n",
       "      <td>0.0</td>\n",
       "      <td>0.0</td>\n",
       "      <td>0.0</td>\n",
       "      <td>0.0</td>\n",
       "      <td>0.0</td>\n",
       "    </tr>\n",
       "    <tr>\n",
       "      <th>4</th>\n",
       "      <td>2595.0</td>\n",
       "      <td>45.0</td>\n",
       "      <td>2.0</td>\n",
       "      <td>153.0</td>\n",
       "      <td>-1.0</td>\n",
       "      <td>391.0</td>\n",
       "      <td>220.0</td>\n",
       "      <td>234.0</td>\n",
       "      <td>150.0</td>\n",
       "      <td>6172.0</td>\n",
       "      <td>...</td>\n",
       "      <td>0.0</td>\n",
       "      <td>0.0</td>\n",
       "      <td>0.0</td>\n",
       "      <td>0.0</td>\n",
       "      <td>0.0</td>\n",
       "      <td>0.0</td>\n",
       "      <td>0.0</td>\n",
       "      <td>0.0</td>\n",
       "      <td>0.0</td>\n",
       "      <td>0.0</td>\n",
       "    </tr>\n",
       "    <tr>\n",
       "      <th>...</th>\n",
       "      <td>...</td>\n",
       "      <td>...</td>\n",
       "      <td>...</td>\n",
       "      <td>...</td>\n",
       "      <td>...</td>\n",
       "      <td>...</td>\n",
       "      <td>...</td>\n",
       "      <td>...</td>\n",
       "      <td>...</td>\n",
       "      <td>...</td>\n",
       "      <td>...</td>\n",
       "      <td>...</td>\n",
       "      <td>...</td>\n",
       "      <td>...</td>\n",
       "      <td>...</td>\n",
       "      <td>...</td>\n",
       "      <td>...</td>\n",
       "      <td>...</td>\n",
       "      <td>...</td>\n",
       "      <td>...</td>\n",
       "      <td>...</td>\n",
       "    </tr>\n",
       "    <tr>\n",
       "      <th>581007</th>\n",
       "      <td>2396.0</td>\n",
       "      <td>153.0</td>\n",
       "      <td>20.0</td>\n",
       "      <td>85.0</td>\n",
       "      <td>17.0</td>\n",
       "      <td>108.0</td>\n",
       "      <td>240.0</td>\n",
       "      <td>237.0</td>\n",
       "      <td>118.0</td>\n",
       "      <td>837.0</td>\n",
       "      <td>...</td>\n",
       "      <td>0.0</td>\n",
       "      <td>0.0</td>\n",
       "      <td>0.0</td>\n",
       "      <td>0.0</td>\n",
       "      <td>0.0</td>\n",
       "      <td>0.0</td>\n",
       "      <td>0.0</td>\n",
       "      <td>0.0</td>\n",
       "      <td>0.0</td>\n",
       "      <td>0.0</td>\n",
       "    </tr>\n",
       "    <tr>\n",
       "      <th>581008</th>\n",
       "      <td>2391.0</td>\n",
       "      <td>152.0</td>\n",
       "      <td>19.0</td>\n",
       "      <td>67.0</td>\n",
       "      <td>12.0</td>\n",
       "      <td>95.0</td>\n",
       "      <td>240.0</td>\n",
       "      <td>237.0</td>\n",
       "      <td>119.0</td>\n",
       "      <td>845.0</td>\n",
       "      <td>...</td>\n",
       "      <td>0.0</td>\n",
       "      <td>0.0</td>\n",
       "      <td>0.0</td>\n",
       "      <td>0.0</td>\n",
       "      <td>0.0</td>\n",
       "      <td>0.0</td>\n",
       "      <td>0.0</td>\n",
       "      <td>0.0</td>\n",
       "      <td>0.0</td>\n",
       "      <td>0.0</td>\n",
       "    </tr>\n",
       "    <tr>\n",
       "      <th>581009</th>\n",
       "      <td>2386.0</td>\n",
       "      <td>159.0</td>\n",
       "      <td>17.0</td>\n",
       "      <td>60.0</td>\n",
       "      <td>7.0</td>\n",
       "      <td>90.0</td>\n",
       "      <td>236.0</td>\n",
       "      <td>241.0</td>\n",
       "      <td>130.0</td>\n",
       "      <td>854.0</td>\n",
       "      <td>...</td>\n",
       "      <td>0.0</td>\n",
       "      <td>0.0</td>\n",
       "      <td>0.0</td>\n",
       "      <td>0.0</td>\n",
       "      <td>0.0</td>\n",
       "      <td>0.0</td>\n",
       "      <td>0.0</td>\n",
       "      <td>0.0</td>\n",
       "      <td>0.0</td>\n",
       "      <td>0.0</td>\n",
       "    </tr>\n",
       "    <tr>\n",
       "      <th>581010</th>\n",
       "      <td>2384.0</td>\n",
       "      <td>170.0</td>\n",
       "      <td>15.0</td>\n",
       "      <td>60.0</td>\n",
       "      <td>5.0</td>\n",
       "      <td>90.0</td>\n",
       "      <td>230.0</td>\n",
       "      <td>245.0</td>\n",
       "      <td>143.0</td>\n",
       "      <td>864.0</td>\n",
       "      <td>...</td>\n",
       "      <td>0.0</td>\n",
       "      <td>0.0</td>\n",
       "      <td>0.0</td>\n",
       "      <td>0.0</td>\n",
       "      <td>0.0</td>\n",
       "      <td>0.0</td>\n",
       "      <td>0.0</td>\n",
       "      <td>0.0</td>\n",
       "      <td>0.0</td>\n",
       "      <td>0.0</td>\n",
       "    </tr>\n",
       "    <tr>\n",
       "      <th>581011</th>\n",
       "      <td>2383.0</td>\n",
       "      <td>165.0</td>\n",
       "      <td>13.0</td>\n",
       "      <td>60.0</td>\n",
       "      <td>4.0</td>\n",
       "      <td>67.0</td>\n",
       "      <td>231.0</td>\n",
       "      <td>244.0</td>\n",
       "      <td>141.0</td>\n",
       "      <td>875.0</td>\n",
       "      <td>...</td>\n",
       "      <td>0.0</td>\n",
       "      <td>0.0</td>\n",
       "      <td>0.0</td>\n",
       "      <td>0.0</td>\n",
       "      <td>0.0</td>\n",
       "      <td>0.0</td>\n",
       "      <td>0.0</td>\n",
       "      <td>0.0</td>\n",
       "      <td>0.0</td>\n",
       "      <td>0.0</td>\n",
       "    </tr>\n",
       "  </tbody>\n",
       "</table>\n",
       "<p>581012 rows × 54 columns</p>\n",
       "</div>"
      ],
      "text/plain": [
       "            0      1     2      3      4       5      6      7      8   \\\n",
       "0       2596.0   51.0   3.0  258.0    0.0   510.0  221.0  232.0  148.0   \n",
       "1       2590.0   56.0   2.0  212.0   -6.0   390.0  220.0  235.0  151.0   \n",
       "2       2804.0  139.0   9.0  268.0   65.0  3180.0  234.0  238.0  135.0   \n",
       "3       2785.0  155.0  18.0  242.0  118.0  3090.0  238.0  238.0  122.0   \n",
       "4       2595.0   45.0   2.0  153.0   -1.0   391.0  220.0  234.0  150.0   \n",
       "...        ...    ...   ...    ...    ...     ...    ...    ...    ...   \n",
       "581007  2396.0  153.0  20.0   85.0   17.0   108.0  240.0  237.0  118.0   \n",
       "581008  2391.0  152.0  19.0   67.0   12.0    95.0  240.0  237.0  119.0   \n",
       "581009  2386.0  159.0  17.0   60.0    7.0    90.0  236.0  241.0  130.0   \n",
       "581010  2384.0  170.0  15.0   60.0    5.0    90.0  230.0  245.0  143.0   \n",
       "581011  2383.0  165.0  13.0   60.0    4.0    67.0  231.0  244.0  141.0   \n",
       "\n",
       "            9   ...   44   45   46   47   48   49   50   51   52   53  \n",
       "0       6279.0  ...  0.0  0.0  0.0  0.0  0.0  0.0  0.0  0.0  0.0  0.0  \n",
       "1       6225.0  ...  0.0  0.0  0.0  0.0  0.0  0.0  0.0  0.0  0.0  0.0  \n",
       "2       6121.0  ...  0.0  0.0  0.0  0.0  0.0  0.0  0.0  0.0  0.0  0.0  \n",
       "3       6211.0  ...  0.0  0.0  0.0  0.0  0.0  0.0  0.0  0.0  0.0  0.0  \n",
       "4       6172.0  ...  0.0  0.0  0.0  0.0  0.0  0.0  0.0  0.0  0.0  0.0  \n",
       "...        ...  ...  ...  ...  ...  ...  ...  ...  ...  ...  ...  ...  \n",
       "581007   837.0  ...  0.0  0.0  0.0  0.0  0.0  0.0  0.0  0.0  0.0  0.0  \n",
       "581008   845.0  ...  0.0  0.0  0.0  0.0  0.0  0.0  0.0  0.0  0.0  0.0  \n",
       "581009   854.0  ...  0.0  0.0  0.0  0.0  0.0  0.0  0.0  0.0  0.0  0.0  \n",
       "581010   864.0  ...  0.0  0.0  0.0  0.0  0.0  0.0  0.0  0.0  0.0  0.0  \n",
       "581011   875.0  ...  0.0  0.0  0.0  0.0  0.0  0.0  0.0  0.0  0.0  0.0  \n",
       "\n",
       "[581012 rows x 54 columns]"
      ]
     },
     "execution_count": 16,
     "metadata": {},
     "output_type": "execute_result"
    }
   ],
   "source": [
    "pd.DataFrame(covtype.data)"
   ]
  },
  {
   "cell_type": "code",
   "execution_count": 38,
   "id": "c6681d5e",
   "metadata": {
    "ExecuteTime": {
     "end_time": "2021-07-23T07:16:15.175837Z",
     "start_time": "2021-07-23T07:16:15.167937Z"
    }
   },
   "outputs": [
    {
     "data": {
      "text/plain": [
       "['Cover_Type']"
      ]
     },
     "execution_count": 38,
     "metadata": {},
     "output_type": "execute_result"
    }
   ],
   "source": [
    "covtype.target_names"
   ]
  },
  {
   "cell_type": "code",
   "execution_count": 39,
   "id": "7a7c800d",
   "metadata": {
    "ExecuteTime": {
     "end_time": "2021-07-23T07:16:25.117897Z",
     "start_time": "2021-07-23T07:16:25.110797Z"
    }
   },
   "outputs": [
    {
     "data": {
      "text/plain": [
       "array([5, 5, 2, ..., 3, 3, 3], dtype=int32)"
      ]
     },
     "execution_count": 39,
     "metadata": {},
     "output_type": "execute_result"
    }
   ],
   "source": [
    "covtype.target"
   ]
  },
  {
   "cell_type": "code",
   "execution_count": 65,
   "id": "b26483fb",
   "metadata": {
    "ExecuteTime": {
     "end_time": "2021-07-23T07:32:14.984592Z",
     "start_time": "2021-07-23T07:32:14.979124Z"
    }
   },
   "outputs": [],
   "source": [
    "covtype_X = covtype.data\n",
    "covtype_y = covtype.target"
   ]
  },
  {
   "cell_type": "code",
   "execution_count": 66,
   "id": "3bdb0eba",
   "metadata": {
    "ExecuteTime": {
     "end_time": "2021-07-23T07:32:18.710820Z",
     "start_time": "2021-07-23T07:32:18.342347Z"
    }
   },
   "outputs": [],
   "source": [
    "covtype_X_train, covtype_X_test, covtype_y_train, covtype_y_test = \\\n",
    "    train_test_split(covtype_X, covtype_y, test_size = 0.2)"
   ]
  },
  {
   "cell_type": "code",
   "execution_count": 67,
   "id": "9a6fa368",
   "metadata": {
    "ExecuteTime": {
     "end_time": "2021-07-23T07:32:22.365998Z",
     "start_time": "2021-07-23T07:32:22.282031Z"
    }
   },
   "outputs": [
    {
     "name": "stdout",
     "output_type": "stream",
     "text": [
      "(581012, 54)\n",
      "(464809, 54)\n",
      "(116203, 54)\n"
     ]
    }
   ],
   "source": [
    "print(covtype_X.shape)\n",
    "print(covtype_X_train.shape)\n",
    "print(covtype_X_test.shape)"
   ]
  },
  {
   "cell_type": "code",
   "execution_count": 24,
   "id": "556bc419",
   "metadata": {
    "ExecuteTime": {
     "end_time": "2021-07-23T07:09:33.095858Z",
     "start_time": "2021-07-23T07:09:30.321378Z"
    }
   },
   "outputs": [
    {
     "data": {
      "text/html": [
       "<div>\n",
       "<style scoped>\n",
       "    .dataframe tbody tr th:only-of-type {\n",
       "        vertical-align: middle;\n",
       "    }\n",
       "\n",
       "    .dataframe tbody tr th {\n",
       "        vertical-align: top;\n",
       "    }\n",
       "\n",
       "    .dataframe thead th {\n",
       "        text-align: right;\n",
       "    }\n",
       "</style>\n",
       "<table border=\"1\" class=\"dataframe\">\n",
       "  <thead>\n",
       "    <tr style=\"text-align: right;\">\n",
       "      <th></th>\n",
       "      <th>0</th>\n",
       "      <th>1</th>\n",
       "      <th>2</th>\n",
       "      <th>3</th>\n",
       "      <th>4</th>\n",
       "      <th>5</th>\n",
       "      <th>6</th>\n",
       "      <th>7</th>\n",
       "      <th>8</th>\n",
       "      <th>9</th>\n",
       "      <th>...</th>\n",
       "      <th>44</th>\n",
       "      <th>45</th>\n",
       "      <th>46</th>\n",
       "      <th>47</th>\n",
       "      <th>48</th>\n",
       "      <th>49</th>\n",
       "      <th>50</th>\n",
       "      <th>51</th>\n",
       "      <th>52</th>\n",
       "      <th>53</th>\n",
       "    </tr>\n",
       "  </thead>\n",
       "  <tbody>\n",
       "    <tr>\n",
       "      <th>count</th>\n",
       "      <td>581012.000000</td>\n",
       "      <td>581012.000000</td>\n",
       "      <td>581012.000000</td>\n",
       "      <td>581012.000000</td>\n",
       "      <td>581012.000000</td>\n",
       "      <td>581012.000000</td>\n",
       "      <td>581012.000000</td>\n",
       "      <td>581012.000000</td>\n",
       "      <td>581012.000000</td>\n",
       "      <td>581012.000000</td>\n",
       "      <td>...</td>\n",
       "      <td>581012.000000</td>\n",
       "      <td>581012.000000</td>\n",
       "      <td>581012.000000</td>\n",
       "      <td>581012.000000</td>\n",
       "      <td>581012.000000</td>\n",
       "      <td>581012.000000</td>\n",
       "      <td>581012.000000</td>\n",
       "      <td>581012.000000</td>\n",
       "      <td>581012.000000</td>\n",
       "      <td>581012.000000</td>\n",
       "    </tr>\n",
       "    <tr>\n",
       "      <th>mean</th>\n",
       "      <td>2959.365301</td>\n",
       "      <td>155.656807</td>\n",
       "      <td>14.103704</td>\n",
       "      <td>269.428217</td>\n",
       "      <td>46.418855</td>\n",
       "      <td>2350.146611</td>\n",
       "      <td>212.146049</td>\n",
       "      <td>223.318716</td>\n",
       "      <td>142.528263</td>\n",
       "      <td>1980.291226</td>\n",
       "      <td>...</td>\n",
       "      <td>0.044175</td>\n",
       "      <td>0.090392</td>\n",
       "      <td>0.077716</td>\n",
       "      <td>0.002773</td>\n",
       "      <td>0.003255</td>\n",
       "      <td>0.000205</td>\n",
       "      <td>0.000513</td>\n",
       "      <td>0.026803</td>\n",
       "      <td>0.023762</td>\n",
       "      <td>0.015060</td>\n",
       "    </tr>\n",
       "    <tr>\n",
       "      <th>std</th>\n",
       "      <td>279.984734</td>\n",
       "      <td>111.913721</td>\n",
       "      <td>7.488242</td>\n",
       "      <td>212.549356</td>\n",
       "      <td>58.295232</td>\n",
       "      <td>1559.254870</td>\n",
       "      <td>26.769889</td>\n",
       "      <td>19.768697</td>\n",
       "      <td>38.274529</td>\n",
       "      <td>1324.195210</td>\n",
       "      <td>...</td>\n",
       "      <td>0.205483</td>\n",
       "      <td>0.286743</td>\n",
       "      <td>0.267725</td>\n",
       "      <td>0.052584</td>\n",
       "      <td>0.056957</td>\n",
       "      <td>0.014310</td>\n",
       "      <td>0.022641</td>\n",
       "      <td>0.161508</td>\n",
       "      <td>0.152307</td>\n",
       "      <td>0.121791</td>\n",
       "    </tr>\n",
       "    <tr>\n",
       "      <th>min</th>\n",
       "      <td>1859.000000</td>\n",
       "      <td>0.000000</td>\n",
       "      <td>0.000000</td>\n",
       "      <td>0.000000</td>\n",
       "      <td>-173.000000</td>\n",
       "      <td>0.000000</td>\n",
       "      <td>0.000000</td>\n",
       "      <td>0.000000</td>\n",
       "      <td>0.000000</td>\n",
       "      <td>0.000000</td>\n",
       "      <td>...</td>\n",
       "      <td>0.000000</td>\n",
       "      <td>0.000000</td>\n",
       "      <td>0.000000</td>\n",
       "      <td>0.000000</td>\n",
       "      <td>0.000000</td>\n",
       "      <td>0.000000</td>\n",
       "      <td>0.000000</td>\n",
       "      <td>0.000000</td>\n",
       "      <td>0.000000</td>\n",
       "      <td>0.000000</td>\n",
       "    </tr>\n",
       "    <tr>\n",
       "      <th>25%</th>\n",
       "      <td>2809.000000</td>\n",
       "      <td>58.000000</td>\n",
       "      <td>9.000000</td>\n",
       "      <td>108.000000</td>\n",
       "      <td>7.000000</td>\n",
       "      <td>1106.000000</td>\n",
       "      <td>198.000000</td>\n",
       "      <td>213.000000</td>\n",
       "      <td>119.000000</td>\n",
       "      <td>1024.000000</td>\n",
       "      <td>...</td>\n",
       "      <td>0.000000</td>\n",
       "      <td>0.000000</td>\n",
       "      <td>0.000000</td>\n",
       "      <td>0.000000</td>\n",
       "      <td>0.000000</td>\n",
       "      <td>0.000000</td>\n",
       "      <td>0.000000</td>\n",
       "      <td>0.000000</td>\n",
       "      <td>0.000000</td>\n",
       "      <td>0.000000</td>\n",
       "    </tr>\n",
       "    <tr>\n",
       "      <th>50%</th>\n",
       "      <td>2996.000000</td>\n",
       "      <td>127.000000</td>\n",
       "      <td>13.000000</td>\n",
       "      <td>218.000000</td>\n",
       "      <td>30.000000</td>\n",
       "      <td>1997.000000</td>\n",
       "      <td>218.000000</td>\n",
       "      <td>226.000000</td>\n",
       "      <td>143.000000</td>\n",
       "      <td>1710.000000</td>\n",
       "      <td>...</td>\n",
       "      <td>0.000000</td>\n",
       "      <td>0.000000</td>\n",
       "      <td>0.000000</td>\n",
       "      <td>0.000000</td>\n",
       "      <td>0.000000</td>\n",
       "      <td>0.000000</td>\n",
       "      <td>0.000000</td>\n",
       "      <td>0.000000</td>\n",
       "      <td>0.000000</td>\n",
       "      <td>0.000000</td>\n",
       "    </tr>\n",
       "    <tr>\n",
       "      <th>75%</th>\n",
       "      <td>3163.000000</td>\n",
       "      <td>260.000000</td>\n",
       "      <td>18.000000</td>\n",
       "      <td>384.000000</td>\n",
       "      <td>69.000000</td>\n",
       "      <td>3328.000000</td>\n",
       "      <td>231.000000</td>\n",
       "      <td>237.000000</td>\n",
       "      <td>168.000000</td>\n",
       "      <td>2550.000000</td>\n",
       "      <td>...</td>\n",
       "      <td>0.000000</td>\n",
       "      <td>0.000000</td>\n",
       "      <td>0.000000</td>\n",
       "      <td>0.000000</td>\n",
       "      <td>0.000000</td>\n",
       "      <td>0.000000</td>\n",
       "      <td>0.000000</td>\n",
       "      <td>0.000000</td>\n",
       "      <td>0.000000</td>\n",
       "      <td>0.000000</td>\n",
       "    </tr>\n",
       "    <tr>\n",
       "      <th>max</th>\n",
       "      <td>3858.000000</td>\n",
       "      <td>360.000000</td>\n",
       "      <td>66.000000</td>\n",
       "      <td>1397.000000</td>\n",
       "      <td>601.000000</td>\n",
       "      <td>7117.000000</td>\n",
       "      <td>254.000000</td>\n",
       "      <td>254.000000</td>\n",
       "      <td>254.000000</td>\n",
       "      <td>7173.000000</td>\n",
       "      <td>...</td>\n",
       "      <td>1.000000</td>\n",
       "      <td>1.000000</td>\n",
       "      <td>1.000000</td>\n",
       "      <td>1.000000</td>\n",
       "      <td>1.000000</td>\n",
       "      <td>1.000000</td>\n",
       "      <td>1.000000</td>\n",
       "      <td>1.000000</td>\n",
       "      <td>1.000000</td>\n",
       "      <td>1.000000</td>\n",
       "    </tr>\n",
       "  </tbody>\n",
       "</table>\n",
       "<p>8 rows × 54 columns</p>\n",
       "</div>"
      ],
      "text/plain": [
       "                  0              1              2              3   \\\n",
       "count  581012.000000  581012.000000  581012.000000  581012.000000   \n",
       "mean     2959.365301     155.656807      14.103704     269.428217   \n",
       "std       279.984734     111.913721       7.488242     212.549356   \n",
       "min      1859.000000       0.000000       0.000000       0.000000   \n",
       "25%      2809.000000      58.000000       9.000000     108.000000   \n",
       "50%      2996.000000     127.000000      13.000000     218.000000   \n",
       "75%      3163.000000     260.000000      18.000000     384.000000   \n",
       "max      3858.000000     360.000000      66.000000    1397.000000   \n",
       "\n",
       "                  4              5              6              7   \\\n",
       "count  581012.000000  581012.000000  581012.000000  581012.000000   \n",
       "mean       46.418855    2350.146611     212.146049     223.318716   \n",
       "std        58.295232    1559.254870      26.769889      19.768697   \n",
       "min      -173.000000       0.000000       0.000000       0.000000   \n",
       "25%         7.000000    1106.000000     198.000000     213.000000   \n",
       "50%        30.000000    1997.000000     218.000000     226.000000   \n",
       "75%        69.000000    3328.000000     231.000000     237.000000   \n",
       "max       601.000000    7117.000000     254.000000     254.000000   \n",
       "\n",
       "                  8              9   ...             44             45  \\\n",
       "count  581012.000000  581012.000000  ...  581012.000000  581012.000000   \n",
       "mean      142.528263    1980.291226  ...       0.044175       0.090392   \n",
       "std        38.274529    1324.195210  ...       0.205483       0.286743   \n",
       "min         0.000000       0.000000  ...       0.000000       0.000000   \n",
       "25%       119.000000    1024.000000  ...       0.000000       0.000000   \n",
       "50%       143.000000    1710.000000  ...       0.000000       0.000000   \n",
       "75%       168.000000    2550.000000  ...       0.000000       0.000000   \n",
       "max       254.000000    7173.000000  ...       1.000000       1.000000   \n",
       "\n",
       "                  46             47             48             49  \\\n",
       "count  581012.000000  581012.000000  581012.000000  581012.000000   \n",
       "mean        0.077716       0.002773       0.003255       0.000205   \n",
       "std         0.267725       0.052584       0.056957       0.014310   \n",
       "min         0.000000       0.000000       0.000000       0.000000   \n",
       "25%         0.000000       0.000000       0.000000       0.000000   \n",
       "50%         0.000000       0.000000       0.000000       0.000000   \n",
       "75%         0.000000       0.000000       0.000000       0.000000   \n",
       "max         1.000000       1.000000       1.000000       1.000000   \n",
       "\n",
       "                  50             51             52             53  \n",
       "count  581012.000000  581012.000000  581012.000000  581012.000000  \n",
       "mean        0.000513       0.026803       0.023762       0.015060  \n",
       "std         0.022641       0.161508       0.152307       0.121791  \n",
       "min         0.000000       0.000000       0.000000       0.000000  \n",
       "25%         0.000000       0.000000       0.000000       0.000000  \n",
       "50%         0.000000       0.000000       0.000000       0.000000  \n",
       "75%         0.000000       0.000000       0.000000       0.000000  \n",
       "max         1.000000       1.000000       1.000000       1.000000  \n",
       "\n",
       "[8 rows x 54 columns]"
      ]
     },
     "execution_count": 24,
     "metadata": {},
     "output_type": "execute_result"
    }
   ],
   "source": [
    "covtype_df = pd.DataFrame(covtype_X)\n",
    "covtype_df.describe()"
   ]
  },
  {
   "cell_type": "code",
   "execution_count": 27,
   "id": "41079061",
   "metadata": {
    "ExecuteTime": {
     "end_time": "2021-07-23T07:10:36.807666Z",
     "start_time": "2021-07-23T07:10:31.724364Z"
    }
   },
   "outputs": [
    {
     "data": {
      "text/html": [
       "<div>\n",
       "<style scoped>\n",
       "    .dataframe tbody tr th:only-of-type {\n",
       "        vertical-align: middle;\n",
       "    }\n",
       "\n",
       "    .dataframe tbody tr th {\n",
       "        vertical-align: top;\n",
       "    }\n",
       "\n",
       "    .dataframe thead th {\n",
       "        text-align: right;\n",
       "    }\n",
       "</style>\n",
       "<table border=\"1\" class=\"dataframe\">\n",
       "  <thead>\n",
       "    <tr style=\"text-align: right;\">\n",
       "      <th></th>\n",
       "      <th>0</th>\n",
       "      <th>1</th>\n",
       "      <th>2</th>\n",
       "      <th>3</th>\n",
       "      <th>4</th>\n",
       "      <th>5</th>\n",
       "      <th>6</th>\n",
       "      <th>7</th>\n",
       "      <th>8</th>\n",
       "      <th>9</th>\n",
       "      <th>...</th>\n",
       "      <th>44</th>\n",
       "      <th>45</th>\n",
       "      <th>46</th>\n",
       "      <th>47</th>\n",
       "      <th>48</th>\n",
       "      <th>49</th>\n",
       "      <th>50</th>\n",
       "      <th>51</th>\n",
       "      <th>52</th>\n",
       "      <th>53</th>\n",
       "    </tr>\n",
       "  </thead>\n",
       "  <tbody>\n",
       "    <tr>\n",
       "      <th>count</th>\n",
       "      <td>464809.000000</td>\n",
       "      <td>464809.000000</td>\n",
       "      <td>464809.000000</td>\n",
       "      <td>464809.000000</td>\n",
       "      <td>464809.000000</td>\n",
       "      <td>464809.000000</td>\n",
       "      <td>464809.000000</td>\n",
       "      <td>464809.000000</td>\n",
       "      <td>464809.000000</td>\n",
       "      <td>464809.000000</td>\n",
       "      <td>...</td>\n",
       "      <td>464809.000000</td>\n",
       "      <td>464809.000000</td>\n",
       "      <td>464809.000000</td>\n",
       "      <td>464809.000000</td>\n",
       "      <td>464809.000000</td>\n",
       "      <td>464809.000000</td>\n",
       "      <td>464809.000000</td>\n",
       "      <td>464809.000000</td>\n",
       "      <td>464809.000000</td>\n",
       "      <td>464809.000000</td>\n",
       "    </tr>\n",
       "    <tr>\n",
       "      <th>mean</th>\n",
       "      <td>2959.420151</td>\n",
       "      <td>155.657973</td>\n",
       "      <td>14.099690</td>\n",
       "      <td>269.443087</td>\n",
       "      <td>46.398099</td>\n",
       "      <td>2349.525861</td>\n",
       "      <td>212.130611</td>\n",
       "      <td>223.322150</td>\n",
       "      <td>142.551689</td>\n",
       "      <td>1980.257491</td>\n",
       "      <td>...</td>\n",
       "      <td>0.044300</td>\n",
       "      <td>0.090347</td>\n",
       "      <td>0.077959</td>\n",
       "      <td>0.002788</td>\n",
       "      <td>0.003283</td>\n",
       "      <td>0.000207</td>\n",
       "      <td>0.000518</td>\n",
       "      <td>0.026807</td>\n",
       "      <td>0.023814</td>\n",
       "      <td>0.015058</td>\n",
       "    </tr>\n",
       "    <tr>\n",
       "      <th>std</th>\n",
       "      <td>280.241031</td>\n",
       "      <td>111.932789</td>\n",
       "      <td>7.487015</td>\n",
       "      <td>212.592536</td>\n",
       "      <td>58.321705</td>\n",
       "      <td>1558.963444</td>\n",
       "      <td>26.775028</td>\n",
       "      <td>19.770417</td>\n",
       "      <td>38.261605</td>\n",
       "      <td>1323.852547</td>\n",
       "      <td>...</td>\n",
       "      <td>0.205761</td>\n",
       "      <td>0.286678</td>\n",
       "      <td>0.268107</td>\n",
       "      <td>0.052730</td>\n",
       "      <td>0.057204</td>\n",
       "      <td>0.014370</td>\n",
       "      <td>0.022765</td>\n",
       "      <td>0.161518</td>\n",
       "      <td>0.152470</td>\n",
       "      <td>0.121783</td>\n",
       "    </tr>\n",
       "    <tr>\n",
       "      <th>min</th>\n",
       "      <td>1859.000000</td>\n",
       "      <td>0.000000</td>\n",
       "      <td>0.000000</td>\n",
       "      <td>0.000000</td>\n",
       "      <td>-173.000000</td>\n",
       "      <td>0.000000</td>\n",
       "      <td>0.000000</td>\n",
       "      <td>0.000000</td>\n",
       "      <td>0.000000</td>\n",
       "      <td>0.000000</td>\n",
       "      <td>...</td>\n",
       "      <td>0.000000</td>\n",
       "      <td>0.000000</td>\n",
       "      <td>0.000000</td>\n",
       "      <td>0.000000</td>\n",
       "      <td>0.000000</td>\n",
       "      <td>0.000000</td>\n",
       "      <td>0.000000</td>\n",
       "      <td>0.000000</td>\n",
       "      <td>0.000000</td>\n",
       "      <td>0.000000</td>\n",
       "    </tr>\n",
       "    <tr>\n",
       "      <th>25%</th>\n",
       "      <td>2809.000000</td>\n",
       "      <td>58.000000</td>\n",
       "      <td>9.000000</td>\n",
       "      <td>108.000000</td>\n",
       "      <td>7.000000</td>\n",
       "      <td>1104.000000</td>\n",
       "      <td>198.000000</td>\n",
       "      <td>213.000000</td>\n",
       "      <td>119.000000</td>\n",
       "      <td>1024.000000</td>\n",
       "      <td>...</td>\n",
       "      <td>0.000000</td>\n",
       "      <td>0.000000</td>\n",
       "      <td>0.000000</td>\n",
       "      <td>0.000000</td>\n",
       "      <td>0.000000</td>\n",
       "      <td>0.000000</td>\n",
       "      <td>0.000000</td>\n",
       "      <td>0.000000</td>\n",
       "      <td>0.000000</td>\n",
       "      <td>0.000000</td>\n",
       "    </tr>\n",
       "    <tr>\n",
       "      <th>50%</th>\n",
       "      <td>2996.000000</td>\n",
       "      <td>127.000000</td>\n",
       "      <td>13.000000</td>\n",
       "      <td>218.000000</td>\n",
       "      <td>30.000000</td>\n",
       "      <td>1995.000000</td>\n",
       "      <td>218.000000</td>\n",
       "      <td>226.000000</td>\n",
       "      <td>143.000000</td>\n",
       "      <td>1710.000000</td>\n",
       "      <td>...</td>\n",
       "      <td>0.000000</td>\n",
       "      <td>0.000000</td>\n",
       "      <td>0.000000</td>\n",
       "      <td>0.000000</td>\n",
       "      <td>0.000000</td>\n",
       "      <td>0.000000</td>\n",
       "      <td>0.000000</td>\n",
       "      <td>0.000000</td>\n",
       "      <td>0.000000</td>\n",
       "      <td>0.000000</td>\n",
       "    </tr>\n",
       "    <tr>\n",
       "      <th>75%</th>\n",
       "      <td>3164.000000</td>\n",
       "      <td>261.000000</td>\n",
       "      <td>18.000000</td>\n",
       "      <td>384.000000</td>\n",
       "      <td>69.000000</td>\n",
       "      <td>3326.000000</td>\n",
       "      <td>231.000000</td>\n",
       "      <td>237.000000</td>\n",
       "      <td>168.000000</td>\n",
       "      <td>2550.000000</td>\n",
       "      <td>...</td>\n",
       "      <td>0.000000</td>\n",
       "      <td>0.000000</td>\n",
       "      <td>0.000000</td>\n",
       "      <td>0.000000</td>\n",
       "      <td>0.000000</td>\n",
       "      <td>0.000000</td>\n",
       "      <td>0.000000</td>\n",
       "      <td>0.000000</td>\n",
       "      <td>0.000000</td>\n",
       "      <td>0.000000</td>\n",
       "    </tr>\n",
       "    <tr>\n",
       "      <th>max</th>\n",
       "      <td>3858.000000</td>\n",
       "      <td>360.000000</td>\n",
       "      <td>66.000000</td>\n",
       "      <td>1390.000000</td>\n",
       "      <td>601.000000</td>\n",
       "      <td>7117.000000</td>\n",
       "      <td>254.000000</td>\n",
       "      <td>254.000000</td>\n",
       "      <td>254.000000</td>\n",
       "      <td>7173.000000</td>\n",
       "      <td>...</td>\n",
       "      <td>1.000000</td>\n",
       "      <td>1.000000</td>\n",
       "      <td>1.000000</td>\n",
       "      <td>1.000000</td>\n",
       "      <td>1.000000</td>\n",
       "      <td>1.000000</td>\n",
       "      <td>1.000000</td>\n",
       "      <td>1.000000</td>\n",
       "      <td>1.000000</td>\n",
       "      <td>1.000000</td>\n",
       "    </tr>\n",
       "  </tbody>\n",
       "</table>\n",
       "<p>8 rows × 54 columns</p>\n",
       "</div>"
      ],
      "text/plain": [
       "                  0              1              2              3   \\\n",
       "count  464809.000000  464809.000000  464809.000000  464809.000000   \n",
       "mean     2959.420151     155.657973      14.099690     269.443087   \n",
       "std       280.241031     111.932789       7.487015     212.592536   \n",
       "min      1859.000000       0.000000       0.000000       0.000000   \n",
       "25%      2809.000000      58.000000       9.000000     108.000000   \n",
       "50%      2996.000000     127.000000      13.000000     218.000000   \n",
       "75%      3164.000000     261.000000      18.000000     384.000000   \n",
       "max      3858.000000     360.000000      66.000000    1390.000000   \n",
       "\n",
       "                  4              5              6              7   \\\n",
       "count  464809.000000  464809.000000  464809.000000  464809.000000   \n",
       "mean       46.398099    2349.525861     212.130611     223.322150   \n",
       "std        58.321705    1558.963444      26.775028      19.770417   \n",
       "min      -173.000000       0.000000       0.000000       0.000000   \n",
       "25%         7.000000    1104.000000     198.000000     213.000000   \n",
       "50%        30.000000    1995.000000     218.000000     226.000000   \n",
       "75%        69.000000    3326.000000     231.000000     237.000000   \n",
       "max       601.000000    7117.000000     254.000000     254.000000   \n",
       "\n",
       "                  8              9   ...             44             45  \\\n",
       "count  464809.000000  464809.000000  ...  464809.000000  464809.000000   \n",
       "mean      142.551689    1980.257491  ...       0.044300       0.090347   \n",
       "std        38.261605    1323.852547  ...       0.205761       0.286678   \n",
       "min         0.000000       0.000000  ...       0.000000       0.000000   \n",
       "25%       119.000000    1024.000000  ...       0.000000       0.000000   \n",
       "50%       143.000000    1710.000000  ...       0.000000       0.000000   \n",
       "75%       168.000000    2550.000000  ...       0.000000       0.000000   \n",
       "max       254.000000    7173.000000  ...       1.000000       1.000000   \n",
       "\n",
       "                  46             47             48             49  \\\n",
       "count  464809.000000  464809.000000  464809.000000  464809.000000   \n",
       "mean        0.077959       0.002788       0.003283       0.000207   \n",
       "std         0.268107       0.052730       0.057204       0.014370   \n",
       "min         0.000000       0.000000       0.000000       0.000000   \n",
       "25%         0.000000       0.000000       0.000000       0.000000   \n",
       "50%         0.000000       0.000000       0.000000       0.000000   \n",
       "75%         0.000000       0.000000       0.000000       0.000000   \n",
       "max         1.000000       1.000000       1.000000       1.000000   \n",
       "\n",
       "                  50             51             52             53  \n",
       "count  464809.000000  464809.000000  464809.000000  464809.000000  \n",
       "mean        0.000518       0.026807       0.023814       0.015058  \n",
       "std         0.022765       0.161518       0.152470       0.121783  \n",
       "min         0.000000       0.000000       0.000000       0.000000  \n",
       "25%         0.000000       0.000000       0.000000       0.000000  \n",
       "50%         0.000000       0.000000       0.000000       0.000000  \n",
       "75%         0.000000       0.000000       0.000000       0.000000  \n",
       "max         1.000000       1.000000       1.000000       1.000000  \n",
       "\n",
       "[8 rows x 54 columns]"
      ]
     },
     "execution_count": 27,
     "metadata": {},
     "output_type": "execute_result"
    }
   ],
   "source": [
    "covtype_train_df = pd.DataFrame(covtype_X_train)\n",
    "covtype_train_df.describe()"
   ]
  },
  {
   "cell_type": "code",
   "execution_count": 68,
   "id": "2fd5e4c0",
   "metadata": {
    "ExecuteTime": {
     "end_time": "2021-07-23T07:32:34.554689Z",
     "start_time": "2021-07-23T07:32:32.828999Z"
    }
   },
   "outputs": [],
   "source": [
    "scaler = StandardScaler()\n",
    "covtype_X_train_scale = scaler.fit_transform(covtype_X_train)\n",
    "covtype_X_test_scale = scaler.fit_transform(covtype_X_test)"
   ]
  },
  {
   "cell_type": "code",
   "execution_count": 30,
   "id": "cbddb8e0",
   "metadata": {
    "ExecuteTime": {
     "end_time": "2021-07-23T07:12:56.687882Z",
     "start_time": "2021-07-23T07:12:56.681092Z"
    }
   },
   "outputs": [],
   "source": [
    "covtype_train_df = pd.DataFrame(covtype_X_train_scale)\n",
    "covtype_test_df = pd.DataFrame(covtype_X_test_scale)"
   ]
  },
  {
   "cell_type": "code",
   "execution_count": 31,
   "id": "80d93234",
   "metadata": {
    "ExecuteTime": {
     "end_time": "2021-07-23T07:13:08.617348Z",
     "start_time": "2021-07-23T07:13:02.967151Z"
    }
   },
   "outputs": [
    {
     "data": {
      "text/html": [
       "<div>\n",
       "<style scoped>\n",
       "    .dataframe tbody tr th:only-of-type {\n",
       "        vertical-align: middle;\n",
       "    }\n",
       "\n",
       "    .dataframe tbody tr th {\n",
       "        vertical-align: top;\n",
       "    }\n",
       "\n",
       "    .dataframe thead th {\n",
       "        text-align: right;\n",
       "    }\n",
       "</style>\n",
       "<table border=\"1\" class=\"dataframe\">\n",
       "  <thead>\n",
       "    <tr style=\"text-align: right;\">\n",
       "      <th></th>\n",
       "      <th>0</th>\n",
       "      <th>1</th>\n",
       "      <th>2</th>\n",
       "      <th>3</th>\n",
       "      <th>4</th>\n",
       "      <th>5</th>\n",
       "      <th>6</th>\n",
       "      <th>7</th>\n",
       "      <th>8</th>\n",
       "      <th>9</th>\n",
       "      <th>...</th>\n",
       "      <th>44</th>\n",
       "      <th>45</th>\n",
       "      <th>46</th>\n",
       "      <th>47</th>\n",
       "      <th>48</th>\n",
       "      <th>49</th>\n",
       "      <th>50</th>\n",
       "      <th>51</th>\n",
       "      <th>52</th>\n",
       "      <th>53</th>\n",
       "    </tr>\n",
       "  </thead>\n",
       "  <tbody>\n",
       "    <tr>\n",
       "      <th>count</th>\n",
       "      <td>4.648090e+05</td>\n",
       "      <td>4.648090e+05</td>\n",
       "      <td>4.648090e+05</td>\n",
       "      <td>4.648090e+05</td>\n",
       "      <td>4.648090e+05</td>\n",
       "      <td>4.648090e+05</td>\n",
       "      <td>4.648090e+05</td>\n",
       "      <td>4.648090e+05</td>\n",
       "      <td>4.648090e+05</td>\n",
       "      <td>4.648090e+05</td>\n",
       "      <td>...</td>\n",
       "      <td>4.648090e+05</td>\n",
       "      <td>4.648090e+05</td>\n",
       "      <td>4.648090e+05</td>\n",
       "      <td>4.648090e+05</td>\n",
       "      <td>4.648090e+05</td>\n",
       "      <td>4.648090e+05</td>\n",
       "      <td>4.648090e+05</td>\n",
       "      <td>4.648090e+05</td>\n",
       "      <td>4.648090e+05</td>\n",
       "      <td>4.648090e+05</td>\n",
       "    </tr>\n",
       "    <tr>\n",
       "      <th>mean</th>\n",
       "      <td>1.021462e-16</td>\n",
       "      <td>-1.707532e-17</td>\n",
       "      <td>9.172061e-18</td>\n",
       "      <td>1.795431e-17</td>\n",
       "      <td>7.725933e-17</td>\n",
       "      <td>1.205209e-16</td>\n",
       "      <td>-4.988378e-16</td>\n",
       "      <td>-6.848472e-17</td>\n",
       "      <td>3.535218e-16</td>\n",
       "      <td>-6.111650e-17</td>\n",
       "      <td>...</td>\n",
       "      <td>2.730217e-17</td>\n",
       "      <td>-1.430841e-17</td>\n",
       "      <td>-2.739389e-17</td>\n",
       "      <td>3.390605e-17</td>\n",
       "      <td>-2.097345e-17</td>\n",
       "      <td>-1.071602e-17</td>\n",
       "      <td>-4.035707e-18</td>\n",
       "      <td>-1.650971e-18</td>\n",
       "      <td>8.744031e-18</td>\n",
       "      <td>-1.654028e-17</td>\n",
       "    </tr>\n",
       "    <tr>\n",
       "      <th>std</th>\n",
       "      <td>1.000001e+00</td>\n",
       "      <td>1.000001e+00</td>\n",
       "      <td>1.000001e+00</td>\n",
       "      <td>1.000001e+00</td>\n",
       "      <td>1.000001e+00</td>\n",
       "      <td>1.000001e+00</td>\n",
       "      <td>1.000001e+00</td>\n",
       "      <td>1.000001e+00</td>\n",
       "      <td>1.000001e+00</td>\n",
       "      <td>1.000001e+00</td>\n",
       "      <td>...</td>\n",
       "      <td>1.000001e+00</td>\n",
       "      <td>1.000001e+00</td>\n",
       "      <td>1.000001e+00</td>\n",
       "      <td>1.000001e+00</td>\n",
       "      <td>1.000001e+00</td>\n",
       "      <td>1.000001e+00</td>\n",
       "      <td>1.000001e+00</td>\n",
       "      <td>1.000001e+00</td>\n",
       "      <td>1.000001e+00</td>\n",
       "      <td>1.000001e+00</td>\n",
       "    </tr>\n",
       "    <tr>\n",
       "      <th>min</th>\n",
       "      <td>-3.926696e+00</td>\n",
       "      <td>-1.390639e+00</td>\n",
       "      <td>-1.883221e+00</td>\n",
       "      <td>-1.267417e+00</td>\n",
       "      <td>-3.761864e+00</td>\n",
       "      <td>-1.507109e+00</td>\n",
       "      <td>-7.922712e+00</td>\n",
       "      <td>-1.129579e+01</td>\n",
       "      <td>-3.725715e+00</td>\n",
       "      <td>-1.495831e+00</td>\n",
       "      <td>...</td>\n",
       "      <td>-2.152983e-01</td>\n",
       "      <td>-3.151508e-01</td>\n",
       "      <td>-2.907754e-01</td>\n",
       "      <td>-5.287758e-02</td>\n",
       "      <td>-5.739236e-02</td>\n",
       "      <td>-1.437286e-02</td>\n",
       "      <td>-2.277634e-02</td>\n",
       "      <td>-1.659672e-01</td>\n",
       "      <td>-1.561891e-01</td>\n",
       "      <td>-1.236447e-01</td>\n",
       "    </tr>\n",
       "    <tr>\n",
       "      <th>25%</th>\n",
       "      <td>-5.367534e-01</td>\n",
       "      <td>-8.724707e-01</td>\n",
       "      <td>-6.811387e-01</td>\n",
       "      <td>-7.594023e-01</td>\n",
       "      <td>-6.755314e-01</td>\n",
       "      <td>-7.989457e-01</td>\n",
       "      <td>-5.277539e-01</td>\n",
       "      <td>-5.221013e-01</td>\n",
       "      <td>-6.155443e-01</td>\n",
       "      <td>-7.223301e-01</td>\n",
       "      <td>...</td>\n",
       "      <td>-2.152983e-01</td>\n",
       "      <td>-3.151508e-01</td>\n",
       "      <td>-2.907754e-01</td>\n",
       "      <td>-5.287758e-02</td>\n",
       "      <td>-5.739236e-02</td>\n",
       "      <td>-1.437286e-02</td>\n",
       "      <td>-2.277634e-02</td>\n",
       "      <td>-1.659672e-01</td>\n",
       "      <td>-1.561891e-01</td>\n",
       "      <td>-1.236447e-01</td>\n",
       "    </tr>\n",
       "    <tr>\n",
       "      <th>50%</th>\n",
       "      <td>1.305301e-01</td>\n",
       "      <td>-2.560287e-01</td>\n",
       "      <td>-1.468798e-01</td>\n",
       "      <td>-2.419800e-01</td>\n",
       "      <td>-2.811666e-01</td>\n",
       "      <td>-2.274115e-01</td>\n",
       "      <td>2.192116e-01</td>\n",
       "      <td>1.354475e-01</td>\n",
       "      <td>1.171701e-02</td>\n",
       "      <td>-2.041449e-01</td>\n",
       "      <td>...</td>\n",
       "      <td>-2.152983e-01</td>\n",
       "      <td>-3.151508e-01</td>\n",
       "      <td>-2.907754e-01</td>\n",
       "      <td>-5.287758e-02</td>\n",
       "      <td>-5.739236e-02</td>\n",
       "      <td>-1.437286e-02</td>\n",
       "      <td>-2.277634e-02</td>\n",
       "      <td>-1.659672e-01</td>\n",
       "      <td>-1.561891e-01</td>\n",
       "      <td>-1.236447e-01</td>\n",
       "    </tr>\n",
       "    <tr>\n",
       "      <th>75%</th>\n",
       "      <td>7.300147e-01</td>\n",
       "      <td>9.411196e-01</td>\n",
       "      <td>5.209438e-01</td>\n",
       "      <td>5.388573e-01</td>\n",
       "      <td>3.875388e-01</td>\n",
       "      <td>6.263618e-01</td>\n",
       "      <td>7.047391e-01</td>\n",
       "      <td>6.918349e-01</td>\n",
       "      <td>6.651142e-01</td>\n",
       "      <td>4.303675e-01</td>\n",
       "      <td>...</td>\n",
       "      <td>-2.152983e-01</td>\n",
       "      <td>-3.151508e-01</td>\n",
       "      <td>-2.907754e-01</td>\n",
       "      <td>-5.287758e-02</td>\n",
       "      <td>-5.739236e-02</td>\n",
       "      <td>-1.437286e-02</td>\n",
       "      <td>-2.277634e-02</td>\n",
       "      <td>-1.659672e-01</td>\n",
       "      <td>-1.561891e-01</td>\n",
       "      <td>-1.236447e-01</td>\n",
       "    </tr>\n",
       "    <tr>\n",
       "      <th>max</th>\n",
       "      <td>3.206457e+00</td>\n",
       "      <td>1.825580e+00</td>\n",
       "      <td>6.932050e+00</td>\n",
       "      <td>5.270919e+00</td>\n",
       "      <td>9.509367e+00</td>\n",
       "      <td>3.058108e+00</td>\n",
       "      <td>1.563749e+00</td>\n",
       "      <td>1.551706e+00</td>\n",
       "      <td>2.912801e+00</td>\n",
       "      <td>3.922452e+00</td>\n",
       "      <td>...</td>\n",
       "      <td>4.644718e+00</td>\n",
       "      <td>3.173084e+00</td>\n",
       "      <td>3.439080e+00</td>\n",
       "      <td>1.891161e+01</td>\n",
       "      <td>1.742392e+01</td>\n",
       "      <td>6.957557e+01</td>\n",
       "      <td>4.390522e+01</td>\n",
       "      <td>6.025288e+00</td>\n",
       "      <td>6.402496e+00</td>\n",
       "      <td>8.087693e+00</td>\n",
       "    </tr>\n",
       "  </tbody>\n",
       "</table>\n",
       "<p>8 rows × 54 columns</p>\n",
       "</div>"
      ],
      "text/plain": [
       "                 0             1             2             3             4   \\\n",
       "count  4.648090e+05  4.648090e+05  4.648090e+05  4.648090e+05  4.648090e+05   \n",
       "mean   1.021462e-16 -1.707532e-17  9.172061e-18  1.795431e-17  7.725933e-17   \n",
       "std    1.000001e+00  1.000001e+00  1.000001e+00  1.000001e+00  1.000001e+00   \n",
       "min   -3.926696e+00 -1.390639e+00 -1.883221e+00 -1.267417e+00 -3.761864e+00   \n",
       "25%   -5.367534e-01 -8.724707e-01 -6.811387e-01 -7.594023e-01 -6.755314e-01   \n",
       "50%    1.305301e-01 -2.560287e-01 -1.468798e-01 -2.419800e-01 -2.811666e-01   \n",
       "75%    7.300147e-01  9.411196e-01  5.209438e-01  5.388573e-01  3.875388e-01   \n",
       "max    3.206457e+00  1.825580e+00  6.932050e+00  5.270919e+00  9.509367e+00   \n",
       "\n",
       "                 5             6             7             8             9   \\\n",
       "count  4.648090e+05  4.648090e+05  4.648090e+05  4.648090e+05  4.648090e+05   \n",
       "mean   1.205209e-16 -4.988378e-16 -6.848472e-17  3.535218e-16 -6.111650e-17   \n",
       "std    1.000001e+00  1.000001e+00  1.000001e+00  1.000001e+00  1.000001e+00   \n",
       "min   -1.507109e+00 -7.922712e+00 -1.129579e+01 -3.725715e+00 -1.495831e+00   \n",
       "25%   -7.989457e-01 -5.277539e-01 -5.221013e-01 -6.155443e-01 -7.223301e-01   \n",
       "50%   -2.274115e-01  2.192116e-01  1.354475e-01  1.171701e-02 -2.041449e-01   \n",
       "75%    6.263618e-01  7.047391e-01  6.918349e-01  6.651142e-01  4.303675e-01   \n",
       "max    3.058108e+00  1.563749e+00  1.551706e+00  2.912801e+00  3.922452e+00   \n",
       "\n",
       "       ...            44            45            46            47  \\\n",
       "count  ...  4.648090e+05  4.648090e+05  4.648090e+05  4.648090e+05   \n",
       "mean   ...  2.730217e-17 -1.430841e-17 -2.739389e-17  3.390605e-17   \n",
       "std    ...  1.000001e+00  1.000001e+00  1.000001e+00  1.000001e+00   \n",
       "min    ... -2.152983e-01 -3.151508e-01 -2.907754e-01 -5.287758e-02   \n",
       "25%    ... -2.152983e-01 -3.151508e-01 -2.907754e-01 -5.287758e-02   \n",
       "50%    ... -2.152983e-01 -3.151508e-01 -2.907754e-01 -5.287758e-02   \n",
       "75%    ... -2.152983e-01 -3.151508e-01 -2.907754e-01 -5.287758e-02   \n",
       "max    ...  4.644718e+00  3.173084e+00  3.439080e+00  1.891161e+01   \n",
       "\n",
       "                 48            49            50            51            52  \\\n",
       "count  4.648090e+05  4.648090e+05  4.648090e+05  4.648090e+05  4.648090e+05   \n",
       "mean  -2.097345e-17 -1.071602e-17 -4.035707e-18 -1.650971e-18  8.744031e-18   \n",
       "std    1.000001e+00  1.000001e+00  1.000001e+00  1.000001e+00  1.000001e+00   \n",
       "min   -5.739236e-02 -1.437286e-02 -2.277634e-02 -1.659672e-01 -1.561891e-01   \n",
       "25%   -5.739236e-02 -1.437286e-02 -2.277634e-02 -1.659672e-01 -1.561891e-01   \n",
       "50%   -5.739236e-02 -1.437286e-02 -2.277634e-02 -1.659672e-01 -1.561891e-01   \n",
       "75%   -5.739236e-02 -1.437286e-02 -2.277634e-02 -1.659672e-01 -1.561891e-01   \n",
       "max    1.742392e+01  6.957557e+01  4.390522e+01  6.025288e+00  6.402496e+00   \n",
       "\n",
       "                 53  \n",
       "count  4.648090e+05  \n",
       "mean  -1.654028e-17  \n",
       "std    1.000001e+00  \n",
       "min   -1.236447e-01  \n",
       "25%   -1.236447e-01  \n",
       "50%   -1.236447e-01  \n",
       "75%   -1.236447e-01  \n",
       "max    8.087693e+00  \n",
       "\n",
       "[8 rows x 54 columns]"
      ]
     },
     "execution_count": 31,
     "metadata": {},
     "output_type": "execute_result"
    }
   ],
   "source": [
    "covtype_train_df.describe()"
   ]
  },
  {
   "cell_type": "markdown",
   "id": "d05b44d2",
   "metadata": {},
   "source": [
    "## 1-1. Gaussian NB"
   ]
  },
  {
   "cell_type": "code",
   "execution_count": 82,
   "id": "d670f446",
   "metadata": {
    "ExecuteTime": {
     "end_time": "2021-07-23T08:04:13.847768Z",
     "start_time": "2021-07-23T08:04:11.874572Z"
    }
   },
   "outputs": [
    {
     "data": {
      "text/plain": [
       "GaussianNB()"
      ]
     },
     "execution_count": 82,
     "metadata": {},
     "output_type": "execute_result"
    }
   ],
   "source": [
    "model = GaussianNB()\n",
    "model.fit(covtype_X_train_scale, covtype_y_train)"
   ]
  },
  {
   "cell_type": "code",
   "execution_count": 83,
   "id": "5fd86cce",
   "metadata": {
    "ExecuteTime": {
     "end_time": "2021-07-23T08:04:24.929038Z",
     "start_time": "2021-07-23T08:04:19.265497Z"
    }
   },
   "outputs": [
    {
     "name": "stdout",
     "output_type": "stream",
     "text": [
      "Train Accuracy :  0.08792859002299869\n",
      "Train F1 score :  [0.04061142 0.0181218  0.33406809 0.13883985 0.04292472 0.06863669\n",
      " 0.23805832]\n"
     ]
    }
   ],
   "source": [
    "pred = model.predict(covtype_X_train_scale)\n",
    "acc = metrics.accuracy_score(covtype_y_train, pred)\n",
    "f1 = metrics.f1_score(covtype_y_train, pred, average = None)\n",
    "\n",
    "print('Train Accuracy : ', acc)\n",
    "print('Train F1 score : ', f1)"
   ]
  },
  {
   "cell_type": "code",
   "execution_count": 84,
   "id": "6a789b74",
   "metadata": {
    "ExecuteTime": {
     "end_time": "2021-07-23T08:04:29.433408Z",
     "start_time": "2021-07-23T08:04:28.795770Z"
    }
   },
   "outputs": [
    {
     "name": "stdout",
     "output_type": "stream",
     "text": [
      "Test Accuracy :  0.4915191518291266\n",
      "Test F1 score :  [0.         0.66024593 0.         0.         0.         0.1460049\n",
      " 0.02875629]\n"
     ]
    }
   ],
   "source": [
    "pred = model.predict(covtype_X_test_scale)\n",
    "acc = metrics.accuracy_score(covtype_y_test, pred)\n",
    "f1 = metrics.f1_score(covtype_y_test, pred, average = None)\n",
    "\n",
    "print('Test Accuracy : ', acc)\n",
    "print('Test F1 score : ', f1)"
   ]
  },
  {
   "cell_type": "code",
   "execution_count": 86,
   "id": "d624b90d",
   "metadata": {
    "ExecuteTime": {
     "end_time": "2021-07-23T08:05:04.651682Z",
     "start_time": "2021-07-23T08:05:04.640473Z"
    }
   },
   "outputs": [],
   "source": [
    "import matplotlib.pyplot as plt\n",
    "from sklearn.datasets import make_blobs\n",
    "\n",
    "def make_meshgrid(x, y, h = .02):\n",
    "    x_min, x_max = x.min() - 1, x.max() + 1\n",
    "    y_min, y_max = y.min() - 1, y.max() + 1\n",
    "    xx, yy = np.meshgrid(np.arange(x_min, x_max, h),\n",
    "                         np.arange(y_min, y_max, h))\n",
    "    \n",
    "    return xx, yy\n",
    "\n",
    "def plot_contours(clf, xx, yy, **params):\n",
    "    Z = clf.predict(np.c_[xx.ravel(), yy.ravel()])\n",
    "    Z = Z.reshape(xx.shape)\n",
    "    out = plt.contour(xx, yy, Z, **params)\n",
    "    \n",
    "    return out"
   ]
  },
  {
   "cell_type": "code",
   "execution_count": 89,
   "id": "6930d5d5",
   "metadata": {
    "ExecuteTime": {
     "end_time": "2021-07-23T08:05:31.681847Z",
     "start_time": "2021-07-23T08:05:31.317659Z"
    }
   },
   "outputs": [
    {
     "data": {
      "image/png": "[encoded data removed]",
      "text/plain": [
       "<Figure size 432x288 with 1 Axes>"
      ]
     },
     "metadata": {
      "needs_background": "light"
     },
     "output_type": "display_data"
    }
   ],
   "source": [
    "X, y = make_blobs(n_samples = 1000)\n",
    "plt.scatter(X[:, 0], X[:, 1], c = y, cmap = plt.cm.coolwarm, s = 20, edgecolor = 'k');"
   ]
  },
  {
   "cell_type": "code",
   "execution_count": 90,
   "id": "675d26e2",
   "metadata": {
    "ExecuteTime": {
     "end_time": "2021-07-23T08:05:52.713494Z",
     "start_time": "2021-07-23T08:05:52.248263Z"
    }
   },
   "outputs": [
    {
     "data": {
      "image/png": "[encoded data removed]",
      "text/plain": [
       "<Figure size 432x288 with 1 Axes>"
      ]
     },
     "metadata": {
      "needs_background": "light"
     },
     "output_type": "display_data"
    }
   ],
   "source": [
    "model = GaussianNB()\n",
    "model.fit(X, y)\n",
    "\n",
    "xx, yy = make_meshgrid(X[:, 0], X[:, 1])\n",
    "plot_contours(model, xx, yy, cmap = plt.cm.coolwarm, alpha = 0.8)\n",
    "plt.scatter(X[:, 0], X[:, 1], c = y, cmap = plt.cm.coolwarm, s = 20, edgecolor = 'k');"
   ]
  },
  {
   "cell_type": "code",
   "execution_count": 91,
   "id": "d765d163",
   "metadata": {
    "ExecuteTime": {
     "end_time": "2021-07-23T08:06:28.404211Z",
     "start_time": "2021-07-23T08:06:13.753939Z"
    }
   },
   "outputs": [
    {
     "data": {
      "image/png": "[encoded data removed]",
      "text/plain": [
       "<Figure size 432x288 with 1 Axes>"
      ]
     },
     "metadata": {
      "needs_background": "light"
     },
     "output_type": "display_data"
    }
   ],
   "source": [
    "plt.scatter(covtype_X[:, 0], covtype_X[:, 1], c = covtype_y, cmap = plt.cm.coolwarm, s = 20, edgecolor = 'k');"
   ]
  },
  {
   "cell_type": "markdown",
   "id": "ab0f16f7",
   "metadata": {},
   "source": [
    "# 2. 20Newsgroup 데이터"
   ]
  },
  {
   "cell_type": "code",
   "execution_count": 33,
   "id": "aad630e4",
   "metadata": {
    "ExecuteTime": {
     "end_time": "2021-07-23T07:15:20.092811Z",
     "start_time": "2021-07-23T07:14:29.732850Z"
    }
   },
   "outputs": [
    {
     "name": "stdout",
     "output_type": "stream",
     "text": [
      ".. _20newsgroups_dataset:\n",
      "\n",
      "The 20 newsgroups text dataset\n",
      "------------------------------\n",
      "\n",
      "The 20 newsgroups dataset comprises around 18000 newsgroups posts on\n",
      "20 topics split in two subsets: one for training (or development)\n",
      "and the other one for testing (or for performance evaluation). The split\n",
      "between the train and test set is based upon a messages posted before\n",
      "and after a specific date.\n",
      "\n",
      "This module contains two loaders. The first one,\n",
      ":func:`sklearn.datasets.fetch_20newsgroups`,\n",
      "returns a list of the raw texts that can be fed to text feature\n",
      "extractors such as :class:`~sklearn.feature_extraction.text.CountVectorizer`\n",
      "with custom parameters so as to extract feature vectors.\n",
      "The second one, :func:`sklearn.datasets.fetch_20newsgroups_vectorized`,\n",
      "returns ready-to-use features, i.e., it is not necessary to use a feature\n",
      "extractor.\n",
      "\n",
      "**Data Set Characteristics:**\n",
      "\n",
      "    =================   ==========\n",
      "    Classes                     20\n",
      "    Samples total            18846\n",
      "    Dimensionality               1\n",
      "    Features                  text\n",
      "    =================   ==========\n",
      "\n",
      "Usage\n",
      "~~~~~\n",
      "\n",
      "The :func:`sklearn.datasets.fetch_20newsgroups` function is a data\n",
      "fetching / caching functions that downloads the data archive from\n",
      "the original `20 newsgroups website`_, extracts the archive contents\n",
      "in the ``~/scikit_learn_data/20news_home`` folder and calls the\n",
      ":func:`sklearn.datasets.load_files` on either the training or\n",
      "testing set folder, or both of them::\n",
      "\n",
      "  >>> from sklearn.datasets import fetch_20newsgroups\n",
      "  >>> newsgroups_train = fetch_20newsgroups(subset='train')\n",
      "\n",
      "  >>> from pprint import pprint\n",
      "  >>> pprint(list(newsgroups_train.target_names))\n",
      "  ['alt.atheism',\n",
      "   'comp.graphics',\n",
      "   'comp.os.ms-windows.misc',\n",
      "   'comp.sys.ibm.pc.hardware',\n",
      "   'comp.sys.mac.hardware',\n",
      "   'comp.windows.x',\n",
      "   'misc.forsale',\n",
      "   'rec.autos',\n",
      "   'rec.motorcycles',\n",
      "   'rec.sport.baseball',\n",
      "   'rec.sport.hockey',\n",
      "   'sci.crypt',\n",
      "   'sci.electronics',\n",
      "   'sci.med',\n",
      "   'sci.space',\n",
      "   'soc.religion.christian',\n",
      "   'talk.politics.guns',\n",
      "   'talk.politics.mideast',\n",
      "   'talk.politics.misc',\n",
      "   'talk.religion.misc']\n",
      "\n",
      "The real data lies in the ``filenames`` and ``target`` attributes. The target\n",
      "attribute is the integer index of the category::\n",
      "\n",
      "  >>> newsgroups_train.filenames.shape\n",
      "  (11314,)\n",
      "  >>> newsgroups_train.target.shape\n",
      "  (11314,)\n",
      "  >>> newsgroups_train.target[:10]\n",
      "  array([ 7,  4,  4,  1, 14, 16, 13,  3,  2,  4])\n",
      "\n",
      "It is possible to load only a sub-selection of the categories by passing the\n",
      "list of the categories to load to the\n",
      ":func:`sklearn.datasets.fetch_20newsgroups` function::\n",
      "\n",
      "  >>> cats = ['alt.atheism', 'sci.space']\n",
      "  >>> newsgroups_train = fetch_20newsgroups(subset='train', categories=cats)\n",
      "\n",
      "  >>> list(newsgroups_train.target_names)\n",
      "  ['alt.atheism', 'sci.space']\n",
      "  >>> newsgroups_train.filenames.shape\n",
      "  (1073,)\n",
      "  >>> newsgroups_train.target.shape\n",
      "  (1073,)\n",
      "  >>> newsgroups_train.target[:10]\n",
      "  array([0, 1, 1, 1, 0, 1, 1, 0, 0, 0])\n",
      "\n",
      "Converting text to vectors\n",
      "~~~~~~~~~~~~~~~~~~~~~~~~~~\n",
      "\n",
      "In order to feed predictive or clustering models with the text data,\n",
      "one first need to turn the text into vectors of numerical values suitable\n",
      "for statistical analysis. This can be achieved with the utilities of the\n",
      "``sklearn.feature_extraction.text`` as demonstrated in the following\n",
      "example that extract `TF-IDF`_ vectors of unigram tokens\n",
      "from a subset of 20news::\n",
      "\n",
      "  >>> from sklearn.feature_extraction.text import TfidfVectorizer\n",
      "  >>> categories = ['alt.atheism', 'talk.religion.misc',\n",
      "  ...               'comp.graphics', 'sci.space']\n",
      "  >>> newsgroups_train = fetch_20newsgroups(subset='train',\n",
      "  ...                                       categories=categories)\n",
      "  >>> vectorizer = TfidfVectorizer()\n",
      "  >>> vectors = vectorizer.fit_transform(newsgroups_train.data)\n",
      "  >>> vectors.shape\n",
      "  (2034, 34118)\n",
      "\n",
      "The extracted TF-IDF vectors are very sparse, with an average of 159 non-zero\n",
      "components by sample in a more than 30000-dimensional space\n",
      "(less than .5% non-zero features)::\n",
      "\n",
      "  >>> vectors.nnz / float(vectors.shape[0])\n",
      "  159.01327...\n",
      "\n",
      ":func:`sklearn.datasets.fetch_20newsgroups_vectorized` is a function which \n",
      "returns ready-to-use token counts features instead of file names.\n",
      "\n",
      ".. _`20 newsgroups website`: http://people.csail.mit.edu/jrennie/20Newsgroups/\n",
      ".. _`TF-IDF`: https://en.wikipedia.org/wiki/Tf-idf\n",
      "\n",
      "\n",
      "Filtering text for more realistic training\n",
      "~~~~~~~~~~~~~~~~~~~~~~~~~~~~~~~~~~~~~~~~~~\n",
      "\n",
      "It is easy for a classifier to overfit on particular things that appear in the\n",
      "20 Newsgroups data, such as newsgroup headers. Many classifiers achieve very\n",
      "high F-scores, but their results would not generalize to other documents that\n",
      "aren't from this window of time.\n",
      "\n",
      "For example, let's look at the results of a multinomial Naive Bayes classifier,\n",
      "which is fast to train and achieves a decent F-score::\n",
      "\n",
      "  >>> from sklearn.naive_bayes import MultinomialNB\n",
      "  >>> from sklearn import metrics\n",
      "  >>> newsgroups_test = fetch_20newsgroups(subset='test',\n",
      "  ...                                      categories=categories)\n",
      "  >>> vectors_test = vectorizer.transform(newsgroups_test.data)\n",
      "  >>> clf = MultinomialNB(alpha=.01)\n",
      "  >>> clf.fit(vectors, newsgroups_train.target)\n",
      "  MultinomialNB(alpha=0.01, class_prior=None, fit_prior=True)\n",
      "\n",
      "  >>> pred = clf.predict(vectors_test)\n",
      "  >>> metrics.f1_score(newsgroups_test.target, pred, average='macro')\n",
      "  0.88213...\n",
      "\n",
      "(The example :ref:`sphx_glr_auto_examples_text_plot_document_classification_20newsgroups.py` shuffles\n",
      "the training and test data, instead of segmenting by time, and in that case\n",
      "multinomial Naive Bayes gets a much higher F-score of 0.88. Are you suspicious\n",
      "yet of what's going on inside this classifier?)\n",
      "\n",
      "Let's take a look at what the most informative features are:\n",
      "\n",
      "  >>> import numpy as np\n",
      "  >>> def show_top10(classifier, vectorizer, categories):\n",
      "  ...     feature_names = np.asarray(vectorizer.get_feature_names())\n",
      "  ...     for i, category in enumerate(categories):\n",
      "  ...         top10 = np.argsort(classifier.coef_[i])[-10:]\n",
      "  ...         print(\"%s: %s\" % (category, \" \".join(feature_names[top10])))\n",
      "  ...\n",
      "  >>> show_top10(clf, vectorizer, newsgroups_train.target_names)\n",
      "  alt.atheism: edu it and in you that is of to the\n",
      "  comp.graphics: edu in graphics it is for and of to the\n",
      "  sci.space: edu it that is in and space to of the\n",
      "  talk.religion.misc: not it you in is that and to of the\n",
      "\n",
      "\n",
      "You can now see many things that these features have overfit to:\n",
      "\n",
      "- Almost every group is distinguished by whether headers such as\n",
      "  ``NNTP-Posting-Host:`` and ``Distribution:`` appear more or less often.\n",
      "- Another significant feature involves whether the sender is affiliated with\n",
      "  a university, as indicated either by their headers or their signature.\n",
      "- The word \"article\" is a significant feature, based on how often people quote\n",
      "  previous posts like this: \"In article [article ID], [name] <[e-mail address]>\n",
      "  wrote:\"\n",
      "- Other features match the names and e-mail addresses of particular people who\n",
      "  were posting at the time.\n",
      "\n",
      "With such an abundance of clues that distinguish newsgroups, the classifiers\n",
      "barely have to identify topics from text at all, and they all perform at the\n",
      "same high level.\n",
      "\n",
      "For this reason, the functions that load 20 Newsgroups data provide a\n",
      "parameter called **remove**, telling it what kinds of information to strip out\n",
      "of each file. **remove** should be a tuple containing any subset of\n",
      "``('headers', 'footers', 'quotes')``, telling it to remove headers, signature\n",
      "blocks, and quotation blocks respectively.\n",
      "\n",
      "  >>> newsgroups_test = fetch_20newsgroups(subset='test',\n",
      "  ...                                      remove=('headers', 'footers', 'quotes'),\n",
      "  ...                                      categories=categories)\n",
      "  >>> vectors_test = vectorizer.transform(newsgroups_test.data)\n",
      "  >>> pred = clf.predict(vectors_test)\n",
      "  >>> metrics.f1_score(pred, newsgroups_test.target, average='macro')\n",
      "  0.77310...\n",
      "\n",
      "This classifier lost over a lot of its F-score, just because we removed\n",
      "metadata that has little to do with topic classification.\n",
      "It loses even more if we also strip this metadata from the training data:\n",
      "\n",
      "  >>> newsgroups_train = fetch_20newsgroups(subset='train',\n",
      "  ...                                       remove=('headers', 'footers', 'quotes'),\n",
      "  ...                                       categories=categories)\n",
      "  >>> vectors = vectorizer.fit_transform(newsgroups_train.data)\n",
      "  >>> clf = MultinomialNB(alpha=.01)\n",
      "  >>> clf.fit(vectors, newsgroups_train.target)\n",
      "  MultinomialNB(alpha=0.01, class_prior=None, fit_prior=True)\n",
      "\n",
      "  >>> vectors_test = vectorizer.transform(newsgroups_test.data)\n",
      "  >>> pred = clf.predict(vectors_test)\n",
      "  >>> metrics.f1_score(newsgroups_test.target, pred, average='macro')\n",
      "  0.76995...\n",
      "\n",
      "Some other classifiers cope better with this harder version of the task. Try\n",
      "running :ref:`sphx_glr_auto_examples_model_selection_grid_search_text_feature_extraction.py` with and without\n",
      "the ``--filter`` option to compare the results.\n",
      "\n",
      ".. topic:: Recommendation\n",
      "\n",
      "  When evaluating text classifiers on the 20 Newsgroups data, you\n",
      "  should strip newsgroup-related metadata. In scikit-learn, you can do this by\n",
      "  setting ``remove=('headers', 'footers', 'quotes')``. The F-score will be\n",
      "  lower because it is more realistic.\n",
      "\n",
      ".. topic:: Examples\n",
      "\n",
      "   * :ref:`sphx_glr_auto_examples_model_selection_grid_search_text_feature_extraction.py`\n",
      "\n",
      "   * :ref:`sphx_glr_auto_examples_text_plot_document_classification_20newsgroups.py`\n",
      "\n"
     ]
    }
   ],
   "source": [
    "newsgroup = fetch_20newsgroups()\n",
    "print(newsgroup.DESCR)"
   ]
  },
  {
   "cell_type": "code",
   "execution_count": 35,
   "id": "58a3ff88",
   "metadata": {
    "ExecuteTime": {
     "end_time": "2021-07-23T07:15:32.493150Z",
     "start_time": "2021-07-23T07:15:32.478570Z"
    }
   },
   "outputs": [
    {
     "data": {
      "text/plain": [
       "[\"From: lerxst@wam.umd.edu (where's my thing)\\nSubject: WHAT car is this!?\\nNntp-Posting-Host: rac3.wam.umd.edu\\nOrganization: University of Maryland, College Park\\nLines: 15\\n\\n I was wondering if anyone out there could enlighten me on this car I saw\\nthe other day. It was a 2-door sports car, looked to be from the late 60s/\\nearly 70s. It was called a Bricklin. The doors were really small. In addition,\\nthe front bumper was separate from the rest of the body. This is \\nall I know. If anyone can tellme a model name, engine specs, years\\nof production, where this car is made, history, or whatever info you\\nhave on this funky looking car, please e-mail.\\n\\nThanks,\\n- IL\\n   ---- brought to you by your neighborhood Lerxst ----\\n\\n\\n\\n\\n\",\n",
       " \"From: guykuo@carson.u.washington.edu (Guy Kuo)\\nSubject: SI Clock Poll - Final Call\\nSummary: Final call for SI clock reports\\nKeywords: SI,acceleration,clock,upgrade\\nArticle-I.D.: shelley.1qvfo9INNc3s\\nOrganization: University of Washington\\nLines: 11\\nNNTP-Posting-Host: carson.u.washington.edu\\n\\nA fair number of brave souls who upgraded their SI clock oscillator have\\nshared their experiences for this poll. Please send a brief message detailing\\nyour experiences with the procedure. Top speed attained, CPU rated speed,\\nadd on cards and adapters, heat sinks, hour of usage per day, floppy disk\\nfunctionality with 800 and 1.4 m floppies are especially requested.\\n\\nI will be summarizing in the next two days, so please add to the network\\nknowledge base if you have done the clock upgrade and haven't answered this\\npoll. Thanks.\\n\\nGuy Kuo <guykuo@u.washington.edu>\\n\",\n",
       " 'From: twillis@ec.ecn.purdue.edu (Thomas E Willis)\\nSubject: PB questions...\\nOrganization: Purdue University Engineering Computer Network\\nDistribution: usa\\nLines: 36\\n\\nwell folks, my mac plus finally gave up the ghost this weekend after\\nstarting life as a 512k way back in 1985.  sooo, i\\'m in the market for a\\nnew machine a bit sooner than i intended to be...\\n\\ni\\'m looking into picking up a powerbook 160 or maybe 180 and have a bunch\\nof questions that (hopefully) somebody can answer:\\n\\n* does anybody know any dirt on when the next round of powerbook\\nintroductions are expected?  i\\'d heard the 185c was supposed to make an\\nappearence \"this summer\" but haven\\'t heard anymore on it - and since i\\ndon\\'t have access to macleak, i was wondering if anybody out there had\\nmore info...\\n\\n* has anybody heard rumors about price drops to the powerbook line like the\\nones the duo\\'s just went through recently?\\n\\n* what\\'s the impression of the display on the 180?  i could probably swing\\na 180 if i got the 80Mb disk rather than the 120, but i don\\'t really have\\na feel for how much \"better\" the display is (yea, it looks great in the\\nstore, but is that all \"wow\" or is it really that good?).  could i solicit\\nsome opinions of people who use the 160 and 180 day-to-day on if its worth\\ntaking the disk size and money hit to get the active display?  (i realize\\nthis is a real subjective question, but i\\'ve only played around with the\\nmachines in a computer store breifly and figured the opinions of somebody\\nwho actually uses the machine daily might prove helpful).\\n\\n* how well does hellcats perform?  ;)\\n\\nthanks a bunch in advance for any info - if you could email, i\\'ll post a\\nsummary (news reading time is at a premium with finals just around the\\ncorner... :( )\\n--\\nTom Willis  \\\\  twillis@ecn.purdue.edu    \\\\    Purdue Electrical Engineering\\n---------------------------------------------------------------------------\\n\"Convictions are more dangerous enemies of truth than lies.\"  - F. W.\\nNietzsche\\n']"
      ]
     },
     "execution_count": 35,
     "metadata": {},
     "output_type": "execute_result"
    }
   ],
   "source": [
    "newsgroup.data[:3]"
   ]
  },
  {
   "cell_type": "code",
   "execution_count": 37,
   "id": "5460636c",
   "metadata": {
    "ExecuteTime": {
     "end_time": "2021-07-23T07:16:02.836645Z",
     "start_time": "2021-07-23T07:16:02.796996Z"
    }
   },
   "outputs": [
    {
     "data": {
      "text/plain": [
       "['alt.atheism',\n",
       " 'comp.graphics',\n",
       " 'comp.os.ms-windows.misc',\n",
       " 'comp.sys.ibm.pc.hardware',\n",
       " 'comp.sys.mac.hardware',\n",
       " 'comp.windows.x',\n",
       " 'misc.forsale',\n",
       " 'rec.autos',\n",
       " 'rec.motorcycles',\n",
       " 'rec.sport.baseball',\n",
       " 'rec.sport.hockey',\n",
       " 'sci.crypt',\n",
       " 'sci.electronics',\n",
       " 'sci.med',\n",
       " 'sci.space',\n",
       " 'soc.religion.christian',\n",
       " 'talk.politics.guns',\n",
       " 'talk.politics.mideast',\n",
       " 'talk.politics.misc',\n",
       " 'talk.religion.misc']"
      ]
     },
     "execution_count": 37,
     "metadata": {},
     "output_type": "execute_result"
    }
   ],
   "source": [
    "newsgroup.target_names"
   ]
  },
  {
   "cell_type": "code",
   "execution_count": 108,
   "id": "520ea336",
   "metadata": {
    "ExecuteTime": {
     "end_time": "2021-07-23T08:13:09.135331Z",
     "start_time": "2021-07-23T08:13:08.316301Z"
    }
   },
   "outputs": [],
   "source": [
    "newsgroup_train = fetch_20newsgroups(subset = 'train')\n",
    "newsgroup_test = fetch_20newsgroups(subset = 'test')"
   ]
  },
  {
   "cell_type": "code",
   "execution_count": 109,
   "id": "f2e2ad0a",
   "metadata": {
    "ExecuteTime": {
     "end_time": "2021-07-23T08:13:13.184291Z",
     "start_time": "2021-07-23T08:13:13.121982Z"
    }
   },
   "outputs": [],
   "source": [
    "X_train, y_train = newsgroup_train.data, newsgroup_train.target\n",
    "X_test, y_test = newsgroup_test.data, newsgroup_test.target"
   ]
  },
  {
   "cell_type": "markdown",
   "id": "97bc41b8",
   "metadata": {},
   "source": [
    "## 2-1. CountVectorizer"
   ]
  },
  {
   "cell_type": "code",
   "execution_count": 110,
   "id": "45226e56",
   "metadata": {
    "ExecuteTime": {
     "end_time": "2021-07-23T08:13:29.272132Z",
     "start_time": "2021-07-23T08:13:16.621468Z"
    }
   },
   "outputs": [],
   "source": [
    "count_vectorizer = CountVectorizer()\n",
    "\n",
    "X_train_count = count_vectorizer.fit_transform(X_train)\n",
    "X_test_count = count_vectorizer.fit_transform(X_test) "
   ]
  },
  {
   "cell_type": "code",
   "execution_count": 45,
   "id": "800b132e",
   "metadata": {
    "ExecuteTime": {
     "end_time": "2021-07-23T07:20:57.879063Z",
     "start_time": "2021-07-23T07:20:57.871110Z"
    }
   },
   "outputs": [
    {
     "name": "stdout",
     "output_type": "stream",
     "text": [
      "  (0, 56979)\t3\n",
      "  (0, 75358)\t2\n",
      "  (0, 123162)\t2\n",
      "  (0, 118280)\t2\n",
      "  (0, 50527)\t2\n",
      "  (0, 124031)\t2\n",
      "  (0, 85354)\t1\n",
      "  (0, 114688)\t1\n",
      "  (0, 111322)\t1\n",
      "  (0, 123984)\t1\n",
      "  (0, 37780)\t5\n",
      "  (0, 68532)\t3\n",
      "  (0, 114731)\t5\n",
      "  (0, 87620)\t1\n",
      "  (0, 95162)\t1\n",
      "  (0, 64095)\t1\n",
      "  (0, 98949)\t1\n",
      "  (0, 90379)\t1\n",
      "  (0, 118983)\t1\n",
      "  (0, 89362)\t3\n",
      "  (0, 79666)\t1\n",
      "  (0, 40998)\t1\n",
      "  (0, 92081)\t1\n",
      "  (0, 76032)\t1\n",
      "  (0, 4605)\t1\n",
      "  :\t:\n",
      "  (0, 37565)\t1\n",
      "  (0, 113986)\t1\n",
      "  (0, 83256)\t1\n",
      "  (0, 86001)\t1\n",
      "  (0, 51730)\t1\n",
      "  (0, 109271)\t1\n",
      "  (0, 128026)\t1\n",
      "  (0, 96144)\t1\n",
      "  (0, 78784)\t1\n",
      "  (0, 63363)\t1\n",
      "  (0, 90252)\t1\n",
      "  (0, 123989)\t1\n",
      "  (0, 67156)\t1\n",
      "  (0, 128402)\t2\n",
      "  (0, 62221)\t1\n",
      "  (0, 57308)\t1\n",
      "  (0, 76722)\t1\n",
      "  (0, 94362)\t1\n",
      "  (0, 78955)\t1\n",
      "  (0, 114428)\t1\n",
      "  (0, 66098)\t1\n",
      "  (0, 35187)\t1\n",
      "  (0, 35983)\t1\n",
      "  (0, 128420)\t1\n",
      "  (0, 86580)\t1\n"
     ]
    }
   ],
   "source": [
    "print(X_train_count[0])"
   ]
  },
  {
   "cell_type": "markdown",
   "id": "087517c8",
   "metadata": {},
   "source": [
    "## 2-2. HashingVectorizer"
   ]
  },
  {
   "cell_type": "code",
   "execution_count": 44,
   "id": "f91f1aea",
   "metadata": {
    "ExecuteTime": {
     "end_time": "2021-07-23T07:20:35.565735Z",
     "start_time": "2021-07-23T07:20:26.047340Z"
    }
   },
   "outputs": [],
   "source": [
    "hash_vectorizer = HashingVectorizer(n_features = 1000)\n",
    "\n",
    "X_train_hash = hash_vectorizer.fit_transform(X_train)\n",
    "X_test_hash = hash_vectorizer.fit_transform(X_test)"
   ]
  },
  {
   "cell_type": "code",
   "execution_count": 47,
   "id": "1553bdda",
   "metadata": {
    "ExecuteTime": {
     "end_time": "2021-07-23T07:21:19.652541Z",
     "start_time": "2021-07-23T07:21:19.646276Z"
    }
   },
   "outputs": [
    {
     "name": "stdout",
     "output_type": "stream",
     "text": [
      "  (0, 80)\t-0.0642824346533225\n",
      "  (0, 108)\t0.0642824346533225\n",
      "  (0, 111)\t-0.128564869306645\n",
      "  (0, 145)\t0.0642824346533225\n",
      "  (0, 158)\t0.0642824346533225\n",
      "  (0, 159)\t-0.0642824346533225\n",
      "  (0, 161)\t0.0642824346533225\n",
      "  (0, 165)\t-0.0642824346533225\n",
      "  (0, 171)\t0.0642824346533225\n",
      "  (0, 182)\t0.0642824346533225\n",
      "  (0, 195)\t-0.0642824346533225\n",
      "  (0, 196)\t0.19284730395996752\n",
      "  (0, 205)\t-0.0642824346533225\n",
      "  (0, 209)\t0.0642824346533225\n",
      "  (0, 234)\t0.0642824346533225\n",
      "  (0, 237)\t0.0642824346533225\n",
      "  (0, 248)\t0.0642824346533225\n",
      "  (0, 265)\t0.19284730395996752\n",
      "  (0, 274)\t0.0642824346533225\n",
      "  (0, 277)\t0.19284730395996752\n",
      "  (0, 284)\t-0.0642824346533225\n",
      "  (0, 286)\t-0.0642824346533225\n",
      "  (0, 296)\t0.0642824346533225\n",
      "  (0, 362)\t-0.0642824346533225\n",
      "  (0, 364)\t-0.0642824346533225\n",
      "  :\t:\n",
      "  (0, 739)\t0.0\n",
      "  (0, 761)\t-0.0642824346533225\n",
      "  (0, 766)\t0.0642824346533225\n",
      "  (0, 800)\t-0.0642824346533225\n",
      "  (0, 812)\t-0.0642824346533225\n",
      "  (0, 842)\t0.0642824346533225\n",
      "  (0, 848)\t-0.0642824346533225\n",
      "  (0, 851)\t0.0642824346533225\n",
      "  (0, 863)\t-0.0642824346533225\n",
      "  (0, 881)\t0.0642824346533225\n",
      "  (0, 892)\t0.0642824346533225\n",
      "  (0, 897)\t0.0\n",
      "  (0, 899)\t0.0642824346533225\n",
      "  (0, 906)\t-0.0642824346533225\n",
      "  (0, 918)\t0.128564869306645\n",
      "  (0, 926)\t-0.0642824346533225\n",
      "  (0, 935)\t0.0642824346533225\n",
      "  (0, 939)\t-0.0642824346533225\n",
      "  (0, 951)\t-0.0642824346533225\n",
      "  (0, 958)\t-0.38569460791993504\n",
      "  (0, 960)\t0.0642824346533225\n",
      "  (0, 968)\t-0.0642824346533225\n",
      "  (0, 987)\t-0.0642824346533225\n",
      "  (0, 996)\t0.0642824346533225\n",
      "  (0, 997)\t-0.128564869306645\n"
     ]
    }
   ],
   "source": [
    "print(X_train_hash[0])"
   ]
  },
  {
   "cell_type": "markdown",
   "id": "96dec972",
   "metadata": {},
   "source": [
    "## 2-3. TfidfVectorizer"
   ]
  },
  {
   "cell_type": "code",
   "execution_count": 60,
   "id": "f56b5d9d",
   "metadata": {
    "ExecuteTime": {
     "end_time": "2021-07-23T07:29:47.156793Z",
     "start_time": "2021-07-23T07:29:38.388852Z"
    }
   },
   "outputs": [],
   "source": [
    "tfidf_vectorizer = TfidfVectorizer()\n",
    "\n",
    "X_train_tfidf = tfidf_vectorizer.fit_transform(X_train)\n",
    "X_test_tfidf = tfidf_vectorizer.fit_transform(X_test)"
   ]
  },
  {
   "cell_type": "code",
   "execution_count": 61,
   "id": "edf2d983",
   "metadata": {
    "ExecuteTime": {
     "end_time": "2021-07-23T07:29:50.245898Z",
     "start_time": "2021-07-23T07:29:50.232132Z"
    }
   },
   "outputs": [
    {
     "name": "stdout",
     "output_type": "stream",
     "text": [
      "  (0, 86580)\t0.13157118714240987\n",
      "  (0, 128420)\t0.04278499079283093\n",
      "  (0, 35983)\t0.03770448563619875\n",
      "  (0, 35187)\t0.09353930598317124\n",
      "  (0, 66098)\t0.09785515708314481\n",
      "  (0, 114428)\t0.05511105154696676\n",
      "  (0, 78955)\t0.05989856888061599\n",
      "  (0, 94362)\t0.055457031390147224\n",
      "  (0, 76722)\t0.06908779999621749\n",
      "  (0, 57308)\t0.1558717009157704\n",
      "  (0, 62221)\t0.02921527992427867\n",
      "  (0, 128402)\t0.05922294083277842\n",
      "  (0, 67156)\t0.07313443922740179\n",
      "  (0, 123989)\t0.08207027465330353\n",
      "  (0, 90252)\t0.031889368795417566\n",
      "  (0, 63363)\t0.08342748387969037\n",
      "  (0, 78784)\t0.0633940918806495\n",
      "  (0, 96144)\t0.10826904490745741\n",
      "  (0, 128026)\t0.060622095889758885\n",
      "  (0, 109271)\t0.10844724822064673\n",
      "  (0, 51730)\t0.09714744057976722\n",
      "  (0, 86001)\t0.07000411445838192\n",
      "  (0, 83256)\t0.08844382496462173\n",
      "  (0, 113986)\t0.17691750674853082\n",
      "  (0, 37565)\t0.03431760442478462\n",
      "  :\t:\n",
      "  (0, 4605)\t0.06332603952480323\n",
      "  (0, 76032)\t0.019219463052223086\n",
      "  (0, 92081)\t0.09913274493911223\n",
      "  (0, 40998)\t0.0780136819691811\n",
      "  (0, 79666)\t0.10936401252414274\n",
      "  (0, 89362)\t0.06521174306303763\n",
      "  (0, 118983)\t0.037085978050619146\n",
      "  (0, 90379)\t0.019928859956645867\n",
      "  (0, 98949)\t0.16068606055394932\n",
      "  (0, 64095)\t0.03542092427131355\n",
      "  (0, 95162)\t0.03447138409326312\n",
      "  (0, 87620)\t0.035671863140815795\n",
      "  (0, 114731)\t0.14447275512784058\n",
      "  (0, 68532)\t0.07325812342131596\n",
      "  (0, 37780)\t0.38133891259493113\n",
      "  (0, 123984)\t0.036854292634593756\n",
      "  (0, 111322)\t0.01915671802495043\n",
      "  (0, 114688)\t0.06214070986309586\n",
      "  (0, 85354)\t0.03696978508816316\n",
      "  (0, 124031)\t0.10798795154169122\n",
      "  (0, 50527)\t0.054614286588587246\n",
      "  (0, 118280)\t0.2118680720828169\n",
      "  (0, 123162)\t0.2597090245735688\n",
      "  (0, 75358)\t0.35383501349706165\n",
      "  (0, 56979)\t0.057470154074851294\n"
     ]
    }
   ],
   "source": [
    "print(X_train_tfidf[0])"
   ]
  },
  {
   "cell_type": "markdown",
   "id": "1a101455",
   "metadata": {},
   "source": [
    "## 2-4. BernoulliNB + CountVec"
   ]
  },
  {
   "cell_type": "code",
   "execution_count": 111,
   "id": "cdb24ae4",
   "metadata": {
    "ExecuteTime": {
     "end_time": "2021-07-23T08:13:34.578747Z",
     "start_time": "2021-07-23T08:13:34.284577Z"
    }
   },
   "outputs": [
    {
     "data": {
      "text/plain": [
       "BernoulliNB()"
      ]
     },
     "execution_count": 111,
     "metadata": {},
     "output_type": "execute_result"
    }
   ],
   "source": [
    "model = BernoulliNB()\n",
    "model.fit(X_train_count, y_train)"
   ]
  },
  {
   "cell_type": "code",
   "execution_count": 112,
   "id": "d59842dd",
   "metadata": {
    "ExecuteTime": {
     "end_time": "2021-07-23T08:14:12.019645Z",
     "start_time": "2021-07-23T08:14:11.726210Z"
    }
   },
   "outputs": [
    {
     "name": "stdout",
     "output_type": "stream",
     "text": [
      "Train Accuracy :  0.7821283365741559\n",
      "Train F1 score :  [0.80096502 0.8538398  0.13858268 0.70686337 0.85220126 0.87944493\n",
      " 0.51627694 0.84532672 0.89064976 0.87179487 0.94561404 0.91331546\n",
      " 0.84627832 0.89825848 0.9047619  0.79242424 0.84693878 0.84489796\n",
      " 0.67329545 0.14742015]\n"
     ]
    }
   ],
   "source": [
    "pred = model.predict(X_train_count)\n",
    "acc = metrics.accuracy_score(y_train, pred)\n",
    "f1 = metrics.f1_score(y_train, pred, average = None)\n",
    "\n",
    "print('Train Accuracy : ', acc)\n",
    "print('Train F1 score : ', f1)"
   ]
  },
  {
   "cell_type": "markdown",
   "id": "6bc0dd98",
   "metadata": {},
   "source": [
    "## 2-5. BernoulliNB + HashingVec"
   ]
  },
  {
   "cell_type": "code",
   "execution_count": 114,
   "id": "007a10b0",
   "metadata": {
    "ExecuteTime": {
     "end_time": "2021-07-23T08:14:51.927159Z",
     "start_time": "2021-07-23T08:14:51.777036Z"
    }
   },
   "outputs": [
    {
     "data": {
      "text/plain": [
       "BernoulliNB()"
      ]
     },
     "execution_count": 114,
     "metadata": {},
     "output_type": "execute_result"
    }
   ],
   "source": [
    "model = BernoulliNB()\n",
    "model.fit(X_train_hash, y_train)"
   ]
  },
  {
   "cell_type": "code",
   "execution_count": 115,
   "id": "689ad7cc",
   "metadata": {
    "ExecuteTime": {
     "end_time": "2021-07-23T08:15:10.577090Z",
     "start_time": "2021-07-23T08:15:10.411812Z"
    }
   },
   "outputs": [
    {
     "name": "stdout",
     "output_type": "stream",
     "text": [
      "Train Accuracy :  0.5951917977726711\n",
      "Train F1 score :  [0.74226804 0.49415205 0.45039019 0.59878155 0.57327935 0.63929619\n",
      " 0.35390947 0.59851301 0.72695347 0.68123862 0.79809524 0.70532319\n",
      " 0.54703833 0.66862745 0.61889927 0.74707471 0.6518668  0.60485269\n",
      " 0.5324165  0.54576271]\n"
     ]
    }
   ],
   "source": [
    "pred = model.predict(X_train_hash)\n",
    "acc = metrics.accuracy_score(y_train, pred)\n",
    "f1 = metrics.f1_score(y_train, pred, average = None)\n",
    "\n",
    "print('Train Accuracy : ', acc)\n",
    "print('Train F1 score : ', f1)"
   ]
  },
  {
   "cell_type": "code",
   "execution_count": 116,
   "id": "b712b68c",
   "metadata": {
    "ExecuteTime": {
     "end_time": "2021-07-23T08:15:27.247217Z",
     "start_time": "2021-07-23T08:15:27.154353Z"
    }
   },
   "outputs": [
    {
     "name": "stdout",
     "output_type": "stream",
     "text": [
      "Train Accuracy :  0.4430430164630908\n",
      "Train F1 score :  [0.46678636 0.33826638 0.29391892 0.45743329 0.41939121 0.46540881\n",
      " 0.34440068 0.46464646 0.62849873 0.53038674 0.63782051 0.55251799\n",
      " 0.32635983 0.34266886 0.46105919 0.61780105 0.46197991 0.54591837\n",
      " 0.27513228 0.3307888 ]\n"
     ]
    }
   ],
   "source": [
    "pred = model.predict(X_test_hash)\n",
    "acc = metrics.accuracy_score(y_test, pred)\n",
    "f1 = metrics.f1_score(y_test, pred, average = None)\n",
    "\n",
    "print('Train Accuracy : ', acc)\n",
    "print('Train F1 score : ', f1)"
   ]
  },
  {
   "cell_type": "markdown",
   "id": "1d6a3c13",
   "metadata": {},
   "source": [
    "## 2-6. BernoulliNB + TfidfVec"
   ]
  },
  {
   "cell_type": "code",
   "execution_count": 117,
   "id": "6045b438",
   "metadata": {
    "ExecuteTime": {
     "end_time": "2021-07-23T08:15:45.688192Z",
     "start_time": "2021-07-23T08:15:45.365457Z"
    }
   },
   "outputs": [
    {
     "data": {
      "text/plain": [
       "BernoulliNB()"
      ]
     },
     "execution_count": 117,
     "metadata": {},
     "output_type": "execute_result"
    }
   ],
   "source": [
    "model = BernoulliNB()\n",
    "model.fit(X_train_tfidf, y_train)"
   ]
  },
  {
   "cell_type": "code",
   "execution_count": 118,
   "id": "7d7fd560",
   "metadata": {
    "ExecuteTime": {
     "end_time": "2021-07-23T08:15:57.649876Z",
     "start_time": "2021-07-23T08:15:57.303549Z"
    }
   },
   "outputs": [
    {
     "name": "stdout",
     "output_type": "stream",
     "text": [
      "Train Accuracy :  0.7821283365741559\n",
      "Train F1 score :  [0.80096502 0.8538398  0.13858268 0.70686337 0.85220126 0.87944493\n",
      " 0.51627694 0.84532672 0.89064976 0.87179487 0.94561404 0.91331546\n",
      " 0.84627832 0.89825848 0.9047619  0.79242424 0.84693878 0.84489796\n",
      " 0.67329545 0.14742015]\n"
     ]
    }
   ],
   "source": [
    "pred = model.predict(X_train_tfidf)\n",
    "acc = metrics.accuracy_score(y_train, pred)\n",
    "f1 = metrics.f1_score(y_train, pred, average = None)\n",
    "\n",
    "print('Train Accuracy : ', acc)\n",
    "print('Train F1 score : ', f1)"
   ]
  },
  {
   "cell_type": "markdown",
   "id": "3a979466",
   "metadata": {},
   "source": [
    "## 2-7. MultinomialNB + CountVec"
   ]
  },
  {
   "cell_type": "code",
   "execution_count": 120,
   "id": "b621d453",
   "metadata": {
    "ExecuteTime": {
     "end_time": "2021-07-23T08:16:44.833404Z",
     "start_time": "2021-07-23T08:16:44.363625Z"
    }
   },
   "outputs": [
    {
     "data": {
      "text/plain": [
       "MultinomialNB()"
      ]
     },
     "execution_count": 120,
     "metadata": {},
     "output_type": "execute_result"
    }
   ],
   "source": [
    "model = MultinomialNB()\n",
    "model.fit(X_train_count, y_train)"
   ]
  },
  {
   "cell_type": "code",
   "execution_count": 121,
   "id": "37fc86b9",
   "metadata": {
    "ExecuteTime": {
     "end_time": "2021-07-23T08:16:58.964669Z",
     "start_time": "2021-07-23T08:16:58.729086Z"
    }
   },
   "outputs": [
    {
     "name": "stdout",
     "output_type": "stream",
     "text": [
      "Train Accuracy :  0.9245182959165635\n",
      "Train F1 score :  [0.95228426 0.904      0.25073746 0.81402003 0.96669513 0.88350983\n",
      " 0.90710383 0.97014925 0.98567818 0.99325464 0.98423237 0.95399516\n",
      " 0.95703454 0.98319328 0.98584513 0.95352564 0.97307002 0.97467249\n",
      " 0.95157895 0.86526946]\n"
     ]
    }
   ],
   "source": [
    "pred = model.predict(X_train_count)\n",
    "acc = metrics.accuracy_score(y_train, pred)\n",
    "f1 = metrics.f1_score(y_train, pred, average = None)\n",
    "\n",
    "print('Train Accuracy : ', acc)\n",
    "print('Train F1 score : ', f1)"
   ]
  },
  {
   "cell_type": "markdown",
   "id": "1d9eedf8",
   "metadata": {},
   "source": [
    "## 2-8. MultinomialNB + TfidfVec"
   ]
  },
  {
   "cell_type": "code",
   "execution_count": 123,
   "id": "7b43955b",
   "metadata": {
    "ExecuteTime": {
     "end_time": "2021-07-23T08:17:48.269087Z",
     "start_time": "2021-07-23T08:17:47.963056Z"
    }
   },
   "outputs": [
    {
     "data": {
      "text/plain": [
       "MultinomialNB()"
      ]
     },
     "execution_count": 123,
     "metadata": {},
     "output_type": "execute_result"
    }
   ],
   "source": [
    "model = MultinomialNB()\n",
    "model.fit(X_train_tfidf, y_train)"
   ]
  },
  {
   "cell_type": "code",
   "execution_count": 124,
   "id": "8919e331",
   "metadata": {
    "ExecuteTime": {
     "end_time": "2021-07-23T08:17:59.678588Z",
     "start_time": "2021-07-23T08:17:59.460233Z"
    }
   },
   "outputs": [
    {
     "name": "stdout",
     "output_type": "stream",
     "text": [
      "Train Accuracy :  0.9326498143892522\n",
      "Train F1 score :  [0.87404162 0.95414462 0.95726496 0.92863002 0.97812773 0.97440273\n",
      " 0.91090909 0.97261411 0.98659966 0.98575021 0.98026316 0.94033413\n",
      " 0.9594478  0.98032506 0.97755611 0.77411003 0.93506494 0.97453907\n",
      " 0.90163934 0.45081967]\n"
     ]
    }
   ],
   "source": [
    "pred = model.predict(X_train_tfidf)\n",
    "acc = metrics.accuracy_score(y_train, pred)\n",
    "f1 = metrics.f1_score(y_train, pred, average = None)\n",
    "\n",
    "print('Train Accuracy : ', acc)\n",
    "print('Train F1 score : ', f1)"
   ]
  }
 ],
 "metadata": {
  "kernelspec": {
   "display_name": "Python 3",
   "language": "python",
   "name": "python3"
  },
  "language_info": {
   "codemirror_mode": {
    "name": "ipython",
    "version": 3
   },
   "file_extension": ".py",
   "mimetype": "text/x-python",
   "name": "python",
   "nbconvert_exporter": "python",
   "pygments_lexer": "ipython3",
   "version": "3.8.5"
  },
  "toc": {
   "base_numbering": 1,
   "nav_menu": {},
   "number_sections": true,
   "sideBar": true,
   "skip_h1_title": false,
   "title_cell": "Table of Contents",
   "title_sidebar": "Contents",
   "toc_cell": false,
   "toc_position": {},
   "toc_section_display": true,
   "toc_window_display": false
  },
  "varInspector": {
   "cols": {
    "lenName": 16,
    "lenType": 16,
    "lenVar": 40
   },
   "kernels_config": {
    "python": {
     "delete_cmd_postfix": "",
     "delete_cmd_prefix": "del ",
     "library": "var_list.py",
     "varRefreshCmd": "print(var_dic_list())"
    },
    "r": {
     "delete_cmd_postfix": ") ",
     "delete_cmd_prefix": "rm(",
     "library": "var_list.r",
     "varRefreshCmd": "cat(var_dic_list()) "
    }
   },
   "types_to_exclude": [
    "module",
    "function",
    "builtin_function_or_method",
    "instance",
    "_Feature"
   ],
   "window_display": false
  }
 },
 "nbformat": 4,
 "nbformat_minor": 5
}
