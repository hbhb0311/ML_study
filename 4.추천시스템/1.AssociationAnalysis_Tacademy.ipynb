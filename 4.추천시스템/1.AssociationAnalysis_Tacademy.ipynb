{
 "cells": [
  {
   "cell_type": "markdown",
   "id": "71e7342c-332b-42b6-8a98-12dfe8cef5c1",
   "metadata": {},
   "source": [
    "# 0. 추천시스템의 개요"
   ]
  },
  {
   "cell_type": "markdown",
   "id": "f856de15-6564-4625-a130-dc8f3457e323",
   "metadata": {},
   "source": [
    "1. 정의 : 사용자에게 상품을 제안하는 소프트웨어 도구 이자 기술\n",
    "2. 목표 : 어떤 사용자에게 어떤 상품을 `어떻게 추천`할지에 대해 이해"
   ]
  },
  {
   "cell_type": "markdown",
   "id": "6b8a3b40-baf4-4424-9aa4-442e0f723e61",
   "metadata": {},
   "source": [
    "**파레토의 법칙** <br>\n",
    "상위 20%가 80%의 가치를 창출한다.\n",
    "\n",
    "<br>\n",
    "\n",
    "**롱테일의 법칙** <br>\n",
    "하위 80%가 상위 20%의 가치보다 크다. <br>\n",
    "인터넷의 발전으로 많은 사람이 접근 가능해지면서 롱테일의 법칙을 추구"
   ]
  },
  {
   "cell_type": "markdown",
   "id": "d3ac4d9d",
   "metadata": {
    "ExecuteTime": {
     "end_time": "2021-07-15T04:16:37.516525Z",
     "start_time": "2021-07-15T04:16:37.370812Z"
    }
   },
   "source": [
    "![recommendation system history](./img/history.png)"
   ]
  },
  {
   "cell_type": "markdown",
   "id": "75e32ccc",
   "metadata": {},
   "source": [
    "# 1. 연관분석(Association Analysis)"
   ]
  },
  {
   "cell_type": "markdown",
   "id": "64d7dd4b",
   "metadata": {},
   "source": [
    "**정의** <br>\n",
    "룰기반의 모델로서 상품과 상품사이에 어떤 `연관`이 있는지 찾아내는 알고리즘\n",
    "\n",
    "<br>\n",
    "\n",
    "**연관의 정의?** <br>\n",
    "첫번째, `얼마나(frequent)` 같이 구매가 되는가? <br>\n",
    "두번째, A아이템을 구매하는 사람이 B아이템을 구매하는가? <br>\n",
    "라는 규칙을 찾아내는 형태 \n",
    "\n",
    "<br>\n",
    "\n",
    "`장바구니 분석`이라고 표현하기도 함"
   ]
  },
  {
   "cell_type": "markdown",
   "id": "0f6b7bca",
   "metadata": {},
   "source": [
    "**규칙평가지표** <br>\n",
    "[관련 설명 블로그](https://needjarvis.tistory.com/59)\n",
    "- **support(지지도)** : 추천할 만한 데이터 분석인지를 판단하기 위해 사용 <br>\n",
    "$$\n",
    "For \\,the \\, rule \\, A \\rightarrow B, support(A) = P(A)\n",
    "$$\n",
    "\n",
    "<br>\n",
    "\n",
    "- **confidence(신뢰도)** : 상품A를 구매했을 때 상품B까지 이어질 확률 <br>\n",
    "$$\n",
    "confidence(A \\rightarrow B) = {P(A, B) \\over P(A)}\n",
    "$$\n",
    "\n",
    "<br>\n",
    "\n",
    "- **lift(향상도)** : 두 사건이 동시에 얼마나 발생하는지 비율, 독립성 측정 <br>\n",
    "$$\n",
    "lift(A \\rightarrow B) = {P(A, B) \\over P(A) \\, P(B)} \n",
    "$$\n",
    "\n",
    "<br>\n",
    "\n",
    "연관분석은 가능한 모든 경우의 수를 탐색해 지지도, 신뢰도, 향상도가 높은 규칙을 찾아내는 방식<br>\n",
    "문제점 : 아이템의 증가에 따른 규칙의 수가 기하급수적으로 증가"
   ]
  },
  {
   "cell_type": "markdown",
   "id": "600f3949",
   "metadata": {},
   "source": [
    "# 2. Apriori 알고리즘"
   ]
  },
  {
   "cell_type": "markdown",
   "id": "d2e2dc8f",
   "metadata": {},
   "source": [
    "\"빈번한 아이템셋은 하위 아이템셋 또한 빈번할 것이다\"<br>\n",
    "즉, \"빈번하지 않은 아이템셋은 하위 아이템셋 또한 빈번하지 않다\"는 개념을 이용해 아이템셋의 증가를 줄이는 방법\n",
    "\n",
    "<br>\n",
    "\n",
    "**아이디어**<br>\n",
    "{2, 3}의 지지도 > {0, 2, 3}, {1, 2, 3}의 지지도<br>\n",
    "P(2, 3) > P(0, 2, 3)"
   ]
  },
  {
   "cell_type": "markdown",
   "id": "f65013d5",
   "metadata": {},
   "source": [
    "**알고리즘 순서**\n",
    "\n",
    "1. k개의 item을 가지고 단일항목집단 생성\n",
    "2. 단일항목집단에서 최소 지지도(support) [사용자가 설정하는 하이퍼파라미터] 이상의 항목만 선택\n",
    "3. 2에서 선택된 항목만을 대상으로 2개항목집단 생성\n",
    "4. 2개항목집단에서 최소 지지도 혹은 신뢰도 이상의 항목만 선택\n",
    "5. 위의 과정을 k개의 k-item frequent set을 생성할 때까지 반복\n",
    "\n",
    "<br>\n",
    "\n",
    "**알고리즘의 장단점**\n",
    "- 장점\n",
    "    - 원리가 간단해 사용자가 쉽게 이해하고 의미를 파악할 수 있음\n",
    "    - 유의미한 연관성을 갖는 구매패턴을 찾아줌\n",
    "    \n",
    "    <br>\n",
    "    \n",
    "- 단점\n",
    "    - 데이터가 클 경우에 속도가 느리고 연산량이 많음\n",
    "    - 실제 사용시에 많은 연관상품이 나타남\n",
    "    - 상관관계에 대한 설명은 가능하나 인과관계는 설명하지 못함"
   ]
  },
  {
   "cell_type": "markdown",
   "id": "e11f6b7a",
   "metadata": {},
   "source": [
    "## 2-1. Apriori 실습"
   ]
  },
  {
   "cell_type": "code",
   "execution_count": null,
   "id": "62cb7f05",
   "metadata": {},
   "outputs": [],
   "source": [
    "# pip install mlxtend"
   ]
  },
  {
   "cell_type": "code",
   "execution_count": 7,
   "id": "01d30411",
   "metadata": {
    "ExecuteTime": {
     "end_time": "2021-07-15T05:39:45.951533Z",
     "start_time": "2021-07-15T05:39:45.946384Z"
    }
   },
   "outputs": [],
   "source": [
    "import mlxtend\n",
    "import numpy as np\n",
    "import pandas as pd\n",
    "import warnings\n",
    "warnings.filterwarnings('ignore')"
   ]
  },
  {
   "cell_type": "code",
   "execution_count": 8,
   "id": "065c12f0",
   "metadata": {
    "ExecuteTime": {
     "end_time": "2021-07-15T05:39:46.625960Z",
     "start_time": "2021-07-15T05:39:46.620109Z"
    }
   },
   "outputs": [],
   "source": [
    "data = np.array([\n",
    "    ['우유', '기저귀', '주스'],\n",
    "    ['양상추', '기저귀', '맥주'],\n",
    "    ['우유', '양상추', '기저귀', '맥주'],\n",
    "    ['양상추', '맥주']\n",
    "])"
   ]
  },
  {
   "cell_type": "code",
   "execution_count": 9,
   "id": "7665669a",
   "metadata": {
    "ExecuteTime": {
     "end_time": "2021-07-15T05:41:14.616718Z",
     "start_time": "2021-07-15T05:41:14.504138Z"
    }
   },
   "outputs": [
    {
     "data": {
      "text/html": [
       "<div>\n",
       "<style scoped>\n",
       "    .dataframe tbody tr th:only-of-type {\n",
       "        vertical-align: middle;\n",
       "    }\n",
       "\n",
       "    .dataframe tbody tr th {\n",
       "        vertical-align: top;\n",
       "    }\n",
       "\n",
       "    .dataframe thead th {\n",
       "        text-align: right;\n",
       "    }\n",
       "</style>\n",
       "<table border=\"1\" class=\"dataframe\">\n",
       "  <thead>\n",
       "    <tr style=\"text-align: right;\">\n",
       "      <th></th>\n",
       "      <th>기저귀</th>\n",
       "      <th>맥주</th>\n",
       "      <th>양상추</th>\n",
       "      <th>우유</th>\n",
       "      <th>주스</th>\n",
       "    </tr>\n",
       "  </thead>\n",
       "  <tbody>\n",
       "    <tr>\n",
       "      <th>0</th>\n",
       "      <td>True</td>\n",
       "      <td>False</td>\n",
       "      <td>False</td>\n",
       "      <td>True</td>\n",
       "      <td>True</td>\n",
       "    </tr>\n",
       "    <tr>\n",
       "      <th>1</th>\n",
       "      <td>True</td>\n",
       "      <td>True</td>\n",
       "      <td>True</td>\n",
       "      <td>False</td>\n",
       "      <td>False</td>\n",
       "    </tr>\n",
       "    <tr>\n",
       "      <th>2</th>\n",
       "      <td>True</td>\n",
       "      <td>True</td>\n",
       "      <td>True</td>\n",
       "      <td>True</td>\n",
       "      <td>False</td>\n",
       "    </tr>\n",
       "    <tr>\n",
       "      <th>3</th>\n",
       "      <td>False</td>\n",
       "      <td>True</td>\n",
       "      <td>True</td>\n",
       "      <td>False</td>\n",
       "      <td>False</td>\n",
       "    </tr>\n",
       "  </tbody>\n",
       "</table>\n",
       "</div>"
      ],
      "text/plain": [
       "     기저귀     맥주    양상추     우유     주스\n",
       "0   True  False  False   True   True\n",
       "1   True   True   True  False  False\n",
       "2   True   True   True   True  False\n",
       "3  False   True   True  False  False"
      ]
     },
     "execution_count": 9,
     "metadata": {},
     "output_type": "execute_result"
    }
   ],
   "source": [
    "# implicit feedback(희소 행렬)으로 만들어주는 과정\n",
    "from mlxtend.preprocessing import TransactionEncoder\n",
    "\n",
    "te = TransactionEncoder()\n",
    "te_ary = te.fit(data).transform(data)\n",
    "df = pd.DataFrame(te_ary, columns = te.columns_)\n",
    "df"
   ]
  },
  {
   "cell_type": "code",
   "execution_count": 12,
   "id": "b71a1642",
   "metadata": {
    "ExecuteTime": {
     "end_time": "2021-07-15T05:49:08.111310Z",
     "start_time": "2021-07-15T05:49:08.027639Z"
    }
   },
   "outputs": [
    {
     "name": "stdout",
     "output_type": "stream",
     "text": [
      "CPU times: user 17.7 ms, sys: 15.3 ms, total: 32.9 ms\n",
      "Wall time: 33.9 ms\n"
     ]
    },
    {
     "data": {
      "text/html": [
       "<div>\n",
       "<style scoped>\n",
       "    .dataframe tbody tr th:only-of-type {\n",
       "        vertical-align: middle;\n",
       "    }\n",
       "\n",
       "    .dataframe tbody tr th {\n",
       "        vertical-align: top;\n",
       "    }\n",
       "\n",
       "    .dataframe thead th {\n",
       "        text-align: right;\n",
       "    }\n",
       "</style>\n",
       "<table border=\"1\" class=\"dataframe\">\n",
       "  <thead>\n",
       "    <tr style=\"text-align: right;\">\n",
       "      <th></th>\n",
       "      <th>support</th>\n",
       "      <th>itemsets</th>\n",
       "    </tr>\n",
       "  </thead>\n",
       "  <tbody>\n",
       "    <tr>\n",
       "      <th>0</th>\n",
       "      <td>0.75</td>\n",
       "      <td>(기저귀)</td>\n",
       "    </tr>\n",
       "    <tr>\n",
       "      <th>1</th>\n",
       "      <td>0.75</td>\n",
       "      <td>(맥주)</td>\n",
       "    </tr>\n",
       "    <tr>\n",
       "      <th>2</th>\n",
       "      <td>0.75</td>\n",
       "      <td>(양상추)</td>\n",
       "    </tr>\n",
       "    <tr>\n",
       "      <th>3</th>\n",
       "      <td>0.50</td>\n",
       "      <td>(우유)</td>\n",
       "    </tr>\n",
       "    <tr>\n",
       "      <th>4</th>\n",
       "      <td>0.50</td>\n",
       "      <td>(맥주, 기저귀)</td>\n",
       "    </tr>\n",
       "    <tr>\n",
       "      <th>5</th>\n",
       "      <td>0.50</td>\n",
       "      <td>(기저귀, 양상추)</td>\n",
       "    </tr>\n",
       "    <tr>\n",
       "      <th>6</th>\n",
       "      <td>0.50</td>\n",
       "      <td>(우유, 기저귀)</td>\n",
       "    </tr>\n",
       "    <tr>\n",
       "      <th>7</th>\n",
       "      <td>0.75</td>\n",
       "      <td>(맥주, 양상추)</td>\n",
       "    </tr>\n",
       "    <tr>\n",
       "      <th>8</th>\n",
       "      <td>0.50</td>\n",
       "      <td>(맥주, 기저귀, 양상추)</td>\n",
       "    </tr>\n",
       "  </tbody>\n",
       "</table>\n",
       "</div>"
      ],
      "text/plain": [
       "   support        itemsets\n",
       "0     0.75           (기저귀)\n",
       "1     0.75            (맥주)\n",
       "2     0.75           (양상추)\n",
       "3     0.50            (우유)\n",
       "4     0.50       (맥주, 기저귀)\n",
       "5     0.50      (기저귀, 양상추)\n",
       "6     0.50       (우유, 기저귀)\n",
       "7     0.75       (맥주, 양상추)\n",
       "8     0.50  (맥주, 기저귀, 양상추)"
      ]
     },
     "execution_count": 12,
     "metadata": {},
     "output_type": "execute_result"
    }
   ],
   "source": [
    "%%time\n",
    "\n",
    "from mlxtend.frequent_patterns import apriori\n",
    "apriori(df, min_support = 0.5, use_colnames = True)"
   ]
  },
  {
   "cell_type": "markdown",
   "id": "056348b2",
   "metadata": {},
   "source": [
    "# 3. FP-Growth 알고리즘"
   ]
  },
  {
   "cell_type": "markdown",
   "id": "5bd599b1",
   "metadata": {},
   "source": [
    "Apriori의 속도측면의 단점을 개선한 알고리즘\n",
    "\n",
    "<br>\n",
    "\n",
    "**알고리즘 순서**\n",
    "1. 모든 거래를 확인해, 각 아이템마다 지지도 계산하고 최소 지지도 이상의 아이템만 선택\n",
    "2. 모든 거래에서 빈도가 높은 아이템 순서대로 정렬\n",
    "3. 부모 노드를 중심으로 한 거래를 자식노드로 추가해주면서 tree 생성\n",
    "4. 새로운 아이템이 나올 경우에는 부모노드부터 시작하고, 그렇지 않으면 기존의 노드에서 확장\n",
    "5. 위 과정을 모든 거래에 대해 반복해 FP Tree 만들고, 최소 지지도 이상의 패턴만 추출\n",
    "\n",
    "<br>\n",
    "\n",
    "**알고리즘 장단점**\n",
    "- 장점\n",
    "    - Apriori 알고리즘보다 빠르고 2번의 탐색만 필요로 함\n",
    "    - 후보 itemset을 생성할 필요없음\n",
    "    \n",
    "<br>\n",
    "\n",
    "- 단점\n",
    "    - 대용량의 데이터셋에서 메모리를 효율적으로 사용하지 않음\n",
    "    - Apriori 알고리즘에 비해 설계하기 어려움\n",
    "    - 지지도의 계산이 FP Tree가 만들어지고 나서 가능함"
   ]
  },
  {
   "cell_type": "markdown",
   "id": "399d6034",
   "metadata": {},
   "source": [
    "## 3-1. FP-Growth 알고리즘 실습"
   ]
  },
  {
   "cell_type": "code",
   "execution_count": 13,
   "id": "d2a8c6be",
   "metadata": {
    "ExecuteTime": {
     "end_time": "2021-07-15T05:49:37.008421Z",
     "start_time": "2021-07-15T05:49:36.976956Z"
    }
   },
   "outputs": [
    {
     "name": "stdout",
     "output_type": "stream",
     "text": [
      "CPU times: user 5.52 ms, sys: 2.71 ms, total: 8.24 ms\n",
      "Wall time: 15.3 ms\n"
     ]
    },
    {
     "data": {
      "text/html": [
       "<div>\n",
       "<style scoped>\n",
       "    .dataframe tbody tr th:only-of-type {\n",
       "        vertical-align: middle;\n",
       "    }\n",
       "\n",
       "    .dataframe tbody tr th {\n",
       "        vertical-align: top;\n",
       "    }\n",
       "\n",
       "    .dataframe thead th {\n",
       "        text-align: right;\n",
       "    }\n",
       "</style>\n",
       "<table border=\"1\" class=\"dataframe\">\n",
       "  <thead>\n",
       "    <tr style=\"text-align: right;\">\n",
       "      <th></th>\n",
       "      <th>support</th>\n",
       "      <th>itemsets</th>\n",
       "    </tr>\n",
       "  </thead>\n",
       "  <tbody>\n",
       "    <tr>\n",
       "      <th>0</th>\n",
       "      <td>0.75</td>\n",
       "      <td>(기저귀)</td>\n",
       "    </tr>\n",
       "    <tr>\n",
       "      <th>1</th>\n",
       "      <td>0.50</td>\n",
       "      <td>(우유)</td>\n",
       "    </tr>\n",
       "    <tr>\n",
       "      <th>2</th>\n",
       "      <td>0.75</td>\n",
       "      <td>(양상추)</td>\n",
       "    </tr>\n",
       "    <tr>\n",
       "      <th>3</th>\n",
       "      <td>0.75</td>\n",
       "      <td>(맥주)</td>\n",
       "    </tr>\n",
       "    <tr>\n",
       "      <th>4</th>\n",
       "      <td>0.50</td>\n",
       "      <td>(맥주, 기저귀)</td>\n",
       "    </tr>\n",
       "    <tr>\n",
       "      <th>5</th>\n",
       "      <td>0.50</td>\n",
       "      <td>(기저귀, 양상추)</td>\n",
       "    </tr>\n",
       "    <tr>\n",
       "      <th>6</th>\n",
       "      <td>0.50</td>\n",
       "      <td>(맥주, 기저귀, 양상추)</td>\n",
       "    </tr>\n",
       "    <tr>\n",
       "      <th>7</th>\n",
       "      <td>0.50</td>\n",
       "      <td>(우유, 기저귀)</td>\n",
       "    </tr>\n",
       "    <tr>\n",
       "      <th>8</th>\n",
       "      <td>0.75</td>\n",
       "      <td>(맥주, 양상추)</td>\n",
       "    </tr>\n",
       "  </tbody>\n",
       "</table>\n",
       "</div>"
      ],
      "text/plain": [
       "   support        itemsets\n",
       "0     0.75           (기저귀)\n",
       "1     0.50            (우유)\n",
       "2     0.75           (양상추)\n",
       "3     0.75            (맥주)\n",
       "4     0.50       (맥주, 기저귀)\n",
       "5     0.50      (기저귀, 양상추)\n",
       "6     0.50  (맥주, 기저귀, 양상추)\n",
       "7     0.50       (우유, 기저귀)\n",
       "8     0.75       (맥주, 양상추)"
      ]
     },
     "execution_count": 13,
     "metadata": {},
     "output_type": "execute_result"
    }
   ],
   "source": [
    "%%time\n",
    "\n",
    "from mlxtend.frequent_patterns import fpgrowth\n",
    "fpgrowth(df, min_support = 0.5, use_colnames = True)"
   ]
  },
  {
   "cell_type": "markdown",
   "id": "fb6551db",
   "metadata": {},
   "source": [
    "FP-Growth 알고리즘이 Apriori 알고리즘보다 빠른 것을 알 수 있음"
   ]
  },
  {
   "cell_type": "code",
   "execution_count": 19,
   "id": "29da1d8c",
   "metadata": {
    "ExecuteTime": {
     "end_time": "2021-07-15T06:01:31.371507Z",
     "start_time": "2021-07-15T06:01:31.313235Z"
    }
   },
   "outputs": [
    {
     "data": {
      "text/html": [
       "<div>\n",
       "<style scoped>\n",
       "    .dataframe tbody tr th:only-of-type {\n",
       "        vertical-align: middle;\n",
       "    }\n",
       "\n",
       "    .dataframe tbody tr th {\n",
       "        vertical-align: top;\n",
       "    }\n",
       "\n",
       "    .dataframe thead th {\n",
       "        text-align: right;\n",
       "    }\n",
       "</style>\n",
       "<table border=\"1\" class=\"dataframe\">\n",
       "  <thead>\n",
       "    <tr style=\"text-align: right;\">\n",
       "      <th></th>\n",
       "      <th>antecedents</th>\n",
       "      <th>consequents</th>\n",
       "      <th>antecedent support</th>\n",
       "      <th>consequent support</th>\n",
       "      <th>support</th>\n",
       "      <th>confidence</th>\n",
       "      <th>lift</th>\n",
       "      <th>leverage</th>\n",
       "      <th>conviction</th>\n",
       "    </tr>\n",
       "  </thead>\n",
       "  <tbody>\n",
       "    <tr>\n",
       "      <th>0</th>\n",
       "      <td>(맥주)</td>\n",
       "      <td>(기저귀)</td>\n",
       "      <td>0.75</td>\n",
       "      <td>0.75</td>\n",
       "      <td>0.50</td>\n",
       "      <td>0.666667</td>\n",
       "      <td>0.888889</td>\n",
       "      <td>-0.0625</td>\n",
       "      <td>0.75</td>\n",
       "    </tr>\n",
       "    <tr>\n",
       "      <th>1</th>\n",
       "      <td>(기저귀)</td>\n",
       "      <td>(맥주)</td>\n",
       "      <td>0.75</td>\n",
       "      <td>0.75</td>\n",
       "      <td>0.50</td>\n",
       "      <td>0.666667</td>\n",
       "      <td>0.888889</td>\n",
       "      <td>-0.0625</td>\n",
       "      <td>0.75</td>\n",
       "    </tr>\n",
       "    <tr>\n",
       "      <th>2</th>\n",
       "      <td>(기저귀)</td>\n",
       "      <td>(양상추)</td>\n",
       "      <td>0.75</td>\n",
       "      <td>0.75</td>\n",
       "      <td>0.50</td>\n",
       "      <td>0.666667</td>\n",
       "      <td>0.888889</td>\n",
       "      <td>-0.0625</td>\n",
       "      <td>0.75</td>\n",
       "    </tr>\n",
       "    <tr>\n",
       "      <th>3</th>\n",
       "      <td>(양상추)</td>\n",
       "      <td>(기저귀)</td>\n",
       "      <td>0.75</td>\n",
       "      <td>0.75</td>\n",
       "      <td>0.50</td>\n",
       "      <td>0.666667</td>\n",
       "      <td>0.888889</td>\n",
       "      <td>-0.0625</td>\n",
       "      <td>0.75</td>\n",
       "    </tr>\n",
       "    <tr>\n",
       "      <th>4</th>\n",
       "      <td>(맥주, 기저귀)</td>\n",
       "      <td>(양상추)</td>\n",
       "      <td>0.50</td>\n",
       "      <td>0.75</td>\n",
       "      <td>0.50</td>\n",
       "      <td>1.000000</td>\n",
       "      <td>1.333333</td>\n",
       "      <td>0.1250</td>\n",
       "      <td>inf</td>\n",
       "    </tr>\n",
       "    <tr>\n",
       "      <th>5</th>\n",
       "      <td>(맥주, 양상추)</td>\n",
       "      <td>(기저귀)</td>\n",
       "      <td>0.75</td>\n",
       "      <td>0.75</td>\n",
       "      <td>0.50</td>\n",
       "      <td>0.666667</td>\n",
       "      <td>0.888889</td>\n",
       "      <td>-0.0625</td>\n",
       "      <td>0.75</td>\n",
       "    </tr>\n",
       "    <tr>\n",
       "      <th>6</th>\n",
       "      <td>(기저귀, 양상추)</td>\n",
       "      <td>(맥주)</td>\n",
       "      <td>0.50</td>\n",
       "      <td>0.75</td>\n",
       "      <td>0.50</td>\n",
       "      <td>1.000000</td>\n",
       "      <td>1.333333</td>\n",
       "      <td>0.1250</td>\n",
       "      <td>inf</td>\n",
       "    </tr>\n",
       "    <tr>\n",
       "      <th>7</th>\n",
       "      <td>(맥주)</td>\n",
       "      <td>(기저귀, 양상추)</td>\n",
       "      <td>0.75</td>\n",
       "      <td>0.50</td>\n",
       "      <td>0.50</td>\n",
       "      <td>0.666667</td>\n",
       "      <td>1.333333</td>\n",
       "      <td>0.1250</td>\n",
       "      <td>1.50</td>\n",
       "    </tr>\n",
       "    <tr>\n",
       "      <th>8</th>\n",
       "      <td>(기저귀)</td>\n",
       "      <td>(맥주, 양상추)</td>\n",
       "      <td>0.75</td>\n",
       "      <td>0.75</td>\n",
       "      <td>0.50</td>\n",
       "      <td>0.666667</td>\n",
       "      <td>0.888889</td>\n",
       "      <td>-0.0625</td>\n",
       "      <td>0.75</td>\n",
       "    </tr>\n",
       "    <tr>\n",
       "      <th>9</th>\n",
       "      <td>(양상추)</td>\n",
       "      <td>(맥주, 기저귀)</td>\n",
       "      <td>0.75</td>\n",
       "      <td>0.50</td>\n",
       "      <td>0.50</td>\n",
       "      <td>0.666667</td>\n",
       "      <td>1.333333</td>\n",
       "      <td>0.1250</td>\n",
       "      <td>1.50</td>\n",
       "    </tr>\n",
       "    <tr>\n",
       "      <th>10</th>\n",
       "      <td>(우유)</td>\n",
       "      <td>(기저귀)</td>\n",
       "      <td>0.50</td>\n",
       "      <td>0.75</td>\n",
       "      <td>0.50</td>\n",
       "      <td>1.000000</td>\n",
       "      <td>1.333333</td>\n",
       "      <td>0.1250</td>\n",
       "      <td>inf</td>\n",
       "    </tr>\n",
       "    <tr>\n",
       "      <th>11</th>\n",
       "      <td>(기저귀)</td>\n",
       "      <td>(우유)</td>\n",
       "      <td>0.75</td>\n",
       "      <td>0.50</td>\n",
       "      <td>0.50</td>\n",
       "      <td>0.666667</td>\n",
       "      <td>1.333333</td>\n",
       "      <td>0.1250</td>\n",
       "      <td>1.50</td>\n",
       "    </tr>\n",
       "    <tr>\n",
       "      <th>12</th>\n",
       "      <td>(맥주)</td>\n",
       "      <td>(양상추)</td>\n",
       "      <td>0.75</td>\n",
       "      <td>0.75</td>\n",
       "      <td>0.75</td>\n",
       "      <td>1.000000</td>\n",
       "      <td>1.333333</td>\n",
       "      <td>0.1875</td>\n",
       "      <td>inf</td>\n",
       "    </tr>\n",
       "    <tr>\n",
       "      <th>13</th>\n",
       "      <td>(양상추)</td>\n",
       "      <td>(맥주)</td>\n",
       "      <td>0.75</td>\n",
       "      <td>0.75</td>\n",
       "      <td>0.75</td>\n",
       "      <td>1.000000</td>\n",
       "      <td>1.333333</td>\n",
       "      <td>0.1875</td>\n",
       "      <td>inf</td>\n",
       "    </tr>\n",
       "  </tbody>\n",
       "</table>\n",
       "</div>"
      ],
      "text/plain": [
       "   antecedents consequents  antecedent support  consequent support  support  \\\n",
       "0         (맥주)       (기저귀)                0.75                0.75     0.50   \n",
       "1        (기저귀)        (맥주)                0.75                0.75     0.50   \n",
       "2        (기저귀)       (양상추)                0.75                0.75     0.50   \n",
       "3        (양상추)       (기저귀)                0.75                0.75     0.50   \n",
       "4    (맥주, 기저귀)       (양상추)                0.50                0.75     0.50   \n",
       "5    (맥주, 양상추)       (기저귀)                0.75                0.75     0.50   \n",
       "6   (기저귀, 양상추)        (맥주)                0.50                0.75     0.50   \n",
       "7         (맥주)  (기저귀, 양상추)                0.75                0.50     0.50   \n",
       "8        (기저귀)   (맥주, 양상추)                0.75                0.75     0.50   \n",
       "9        (양상추)   (맥주, 기저귀)                0.75                0.50     0.50   \n",
       "10        (우유)       (기저귀)                0.50                0.75     0.50   \n",
       "11       (기저귀)        (우유)                0.75                0.50     0.50   \n",
       "12        (맥주)       (양상추)                0.75                0.75     0.75   \n",
       "13       (양상추)        (맥주)                0.75                0.75     0.75   \n",
       "\n",
       "    confidence      lift  leverage  conviction  \n",
       "0     0.666667  0.888889   -0.0625        0.75  \n",
       "1     0.666667  0.888889   -0.0625        0.75  \n",
       "2     0.666667  0.888889   -0.0625        0.75  \n",
       "3     0.666667  0.888889   -0.0625        0.75  \n",
       "4     1.000000  1.333333    0.1250         inf  \n",
       "5     0.666667  0.888889   -0.0625        0.75  \n",
       "6     1.000000  1.333333    0.1250         inf  \n",
       "7     0.666667  1.333333    0.1250        1.50  \n",
       "8     0.666667  0.888889   -0.0625        0.75  \n",
       "9     0.666667  1.333333    0.1250        1.50  \n",
       "10    1.000000  1.333333    0.1250         inf  \n",
       "11    0.666667  1.333333    0.1250        1.50  \n",
       "12    1.000000  1.333333    0.1875         inf  \n",
       "13    1.000000  1.333333    0.1875         inf  "
      ]
     },
     "execution_count": 19,
     "metadata": {},
     "output_type": "execute_result"
    }
   ],
   "source": [
    "from mlxtend.frequent_patterns import association_rules\n",
    "association_rules(fpgrowth(df, min_support = 0.4, use_colnames = True),\n",
    "                  metric = 'confidence', min_threshold = 0.5, support_only = False)"
   ]
  }
 ],
 "metadata": {
  "kernelspec": {
   "display_name": "Python 3",
   "language": "python",
   "name": "python3"
  },
  "language_info": {
   "codemirror_mode": {
    "name": "ipython",
    "version": 3
   },
   "file_extension": ".py",
   "mimetype": "text/x-python",
   "name": "python",
   "nbconvert_exporter": "python",
   "pygments_lexer": "ipython3",
   "version": "3.8.5"
  },
  "toc": {
   "base_numbering": 1,
   "nav_menu": {},
   "number_sections": true,
   "sideBar": true,
   "skip_h1_title": false,
   "title_cell": "Table of Contents",
   "title_sidebar": "Contents",
   "toc_cell": false,
   "toc_position": {},
   "toc_section_display": true,
   "toc_window_display": true
  },
  "varInspector": {
   "cols": {
    "lenName": 16,
    "lenType": 16,
    "lenVar": 40
   },
   "kernels_config": {
    "python": {
     "delete_cmd_postfix": "",
     "delete_cmd_prefix": "del ",
     "library": "var_list.py",
     "varRefreshCmd": "print(var_dic_list())"
    },
    "r": {
     "delete_cmd_postfix": ") ",
     "delete_cmd_prefix": "rm(",
     "library": "var_list.r",
     "varRefreshCmd": "cat(var_dic_list()) "
    }
   },
   "types_to_exclude": [
    "module",
    "function",
    "builtin_function_or_method",
    "instance",
    "_Feature"
   ],
   "window_display": false
  }
 },
 "nbformat": 4,
 "nbformat_minor": 5
}
